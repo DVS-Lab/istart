{
 "cells": [
  {
   "cell_type": "code",
   "execution_count": 15,
   "metadata": {},
   "outputs": [],
   "source": [
    "#Import the Libraries\n",
    "import numpy as np\n",
    "from scipy.io import loadmat  # this is the SciPy module that loads mat-files\n",
    "import matplotlib.pyplot as plt\n",
    "from datetime import datetime, date, time\n",
    "import pandas as pd\n",
    "import os\n",
    "from natsort import natsorted\n",
    "import re"
   ]
  },
  {
   "cell_type": "markdown",
   "metadata": {},
   "source": [
    "## MATLAB to BIDS"
   ]
  },
  {
   "cell_type": "code",
<<<<<<< Updated upstream
   "execution_count": 6,
=======
   "execution_count": 17,
>>>>>>> Stashed changes
   "metadata": {},
   "outputs": [
    {
     "name": "stdout",
     "output_type": "stream",
     "text": [
      "The number of Subjects are: 52\n",
      "The number of files are: 68\n",
      "----------------------------------------\n",
      "('sub-999', 'run-1')\n",
      "('sub-999', 'run-3')\n",
      "('sub-1007', 'run-1')\n",
      "('sub-1007', 'run-2')\n",
      "('sub-1009', 'run-1')\n",
      "('sub-1009', 'run-2')\n",
      "('sub-1010', 'run-1')\n",
      "('sub-1010', 'run-2')\n",
      "('sub-1011', 'run-1')\n",
      "('sub-1011', 'run-2')\n",
      "('sub-1012', 'run-1')\n",
      "('sub-1012', 'run-2')\n",
      "('sub-1013', 'run-1')\n",
      "('sub-1013', 'run-2')\n",
      "('sub-1015', 'run-1')\n",
      "('sub-1015', 'run-2')\n",
      "('sub-1016', 'run-1')\n",
      "('sub-1016', 'run-2')\n",
      "('sub-1019', 'run-1')\n",
      "('sub-1019', 'run-2')\n",
      "('sub-1021', 'run-1')\n",
      "('sub-1021', 'run-2')\n",
      "('sub-1242', 'run-1')\n",
      "('sub-1243', 'run-1')\n",
      "('sub-1243', 'run-2')\n",
      "('sub-1244', 'run-1')\n",
      "('sub-1244', 'run-2')\n",
      "('sub-1245', 'run-1')\n",
      "('sub-1245', 'run-2')\n",
      "('sub-1247', 'run-1')\n",
      "('sub-1247', 'run-2')\n",
      "('sub-1248', 'run-1')\n",
      "('sub-1248', 'run-2')\n",
      "('sub-1249', 'run-1')\n",
      "('sub-1249', 'run-2')\n",
      "('sub-1253', 'run-1')\n",
      "Problem with sub-1253 run-1\n",
      "('sub-1253', 'run-2')\n",
      "('sub-1255', 'run-1')\n",
      "('sub-1255', 'run-2')\n",
      "('sub-1276', 'run-1')\n",
      "('sub-1282', 'run-1')\n",
      "('sub-1285', 'run-2')\n",
      "('sub-1286', 'run-1')\n",
      "('sub-1294', 'run-1')\n",
      "('sub-1300', 'run-1')\n",
      "('sub-1300', 'run-2')\n",
      "('sub-1301', 'run-1')\n",
      "('sub-1301', 'run-2')\n",
      "('sub-1302', 'run-1')\n",
      "('sub-1999', 'run-1')\n",
      "('sub-1999', 'run-2')\n",
      "('sub-3101', 'run-1')\n",
      "Problem with sub-3101 run-1\n",
      "('sub-3116', 'run-1')\n",
      "('sub-3122', 'run-1')\n",
      "Problem with sub-3122 run-1\n",
      "('sub-3125', 'run-1')\n",
      "('sub-3140', 'run-1')\n",
      "('sub-3143', 'run-1')\n",
      "('sub-3152', 'run-1')\n",
      "('sub-3164', 'run-1')\n",
      "('sub-3166', 'run-1')\n",
      "('sub-3167', 'run-1')\n",
      "('sub-3170', 'run-1')\n",
      "('sub-3173', 'run-1')\n",
      "('sub-3175', 'run-1')\n",
      "('sub-3176', 'run-1')\n",
      "('sub-3186', 'run-1')\n",
      "('sub-3189', 'run-1')\n",
      "('sub-3190', 'run-1')\n"
     ]
    }
   ],
   "source": [
    "#Make a list of the files\n",
    "Mat_Beh_dir='data'\n",
    "ML_EvFiles_list=natsorted([os.path.join(root,f) for root,dirs,files in os.walk(\n",
    "    Mat_Beh_dir) for f in files if 'run' in f])\n",
    "print(\"The number of Subjects are: %s\"%(len([x for x in os.listdir(Mat_Beh_dir) if x.startswith('sub')])))\n",
    "print(\"The number of files are: %s\"%(len(ML_EvFiles_list)))\n",
    "print(\"----------------------------------------\")\n",
    "#Make Conditions for Run1 and Run2\n",
    "run_cond=loadmat('timing/runz.mat')\n",
    "run1=run_cond['run']['cond'][0,0]\n",
    "run1 = np.where(run1==[1], 'Large_gain', run1)\n",
    "run1 = np.where(run1==['2'], 'Large_loss', run1)\n",
    "run1 = np.where(run1==['3'], 'Small_gain', run1)\n",
    "run1 = np.where(run1==['4'], 'Small_loss', run1)\n",
    "run1 = np.where(run1==['5'], 'Neutral', run1)\n",
    "run1=np.concatenate(run1)\n",
    "\n",
    "run_cond=loadmat('timing/run2.mat')\n",
    "run2=run_cond['run']['cond'][0,0]\n",
    "run2 = np.where(run2==[1], 'Large_gain', run2)\n",
    "run2 = np.where(run2==['2'], 'Large_loss', run2)\n",
    "run2 = np.where(run2==['3'], 'Small_gain', run2)\n",
    "run2 = np.where(run2==['4'], 'Small_loss', run2)\n",
    "run2 = np.where(run2==['5'], 'Neutral', run2)\n",
    "run2=np.concatenate(run2)\n",
    "\n",
    "#Load the .mat convert to dataframe add trial_type and detect bad data\n",
    "for ML_EvFile in ML_EvFiles_list:\n",
    "    sub='sub-'+re.search('sub-(.*)/',ML_EvFile).group(1)\n",
    "    run='run-'+re.search('run-(.*)_out',ML_EvFile).group(1)\n",
    "    print(sub,run)\n",
    "    mat = loadmat(ML_EvFile)  # load mat-file\n",
    "    mdata = mat['output']  # variable in mat file\n",
    "    mdtype = mdata.dtype  # dtypes of structures are \"unsized objects\"\n",
    "    # * SciiencPy reads in structures as structured NumPy arrays of dtype object\n",
    "    # * The size of the array is the size of the structure array, not the number\n",
    "    #   elements in any particular field. The shape defaults to 2-dimensional.\n",
    "    # * For convene make a dictionary of the data using the names from dtypes\n",
    "    # * Since the structure has only one element, but is 2-D, index it at [0, 0]\n",
    "    ndata = {n: mdata[n][0, 0] for n in mdtype.names}\n",
    "    # Reconstruct the columns of the data table from just the time series\n",
    "    # Use the number of intervals to test if a field is a column or metadata\n",
    "    columns = [n for n in ndata]\n",
    "    #Check fo frame\n",
    "    # now make a data frame, setting the time stamps as the index\n",
    "    lens=[len(x[0]) for x in ndata.values()]\n",
    "    if lens.count(lens[0]) == len(lens):\n",
    "        df = pd.DataFrame(np.transpose(np.concatenate([ndata[c] for c in columns])),\n",
    "                  columns=columns)\n",
    "        if run=='run-1':\n",
    "            if len(df)==50:\n",
    "                df['trial_type']=run1[0:50]\n",
    "            elif len(df)==75:\n",
    "                df['trial_type']=run1\n",
    "        if run=='run-2':\n",
    "            df['trial_type']=run2\n",
    "            \n",
    "        if not os.path.isdir('../../istart-data/bids/%s'%(sub)):\n",
    "            os.makedirs('../../istart-data/bids/%s'%(sub)) \n",
    "            \n",
    "        df.to_csv('../../istart-data/bids/%s/%s_task-mid_run-%s_events.tsv'%(sub,sub,run),sep = '\\t', index=False)\n",
    "    else:\n",
    "        \n",
    "        print(\"Problem with %s %s\"%(sub,run))"
   ]
  },
  {
   "cell_type": "code",
<<<<<<< Updated upstream
   "execution_count": 5,
   "metadata": {},
   "outputs": [
    {
     "data": {
      "text/plain": [
       "array(['Small_loss', 'Neutral', 'Large_loss', 'Large_loss', 'Large_gain',\n",
       "       'Large_gain', 'Large_gain', 'Large_loss', 'Neutral', 'Small_loss',\n",
       "       'Small_gain', 'Small_loss', 'Small_loss', 'Large_gain',\n",
       "       'Large_gain', 'Small_gain', 'Large_loss', 'Small_loss',\n",
       "       'Large_loss', 'Neutral', 'Large_loss', 'Neutral', 'Large_gain',\n",
       "       'Small_gain', 'Neutral', 'Large_gain', 'Small_loss', 'Small_loss',\n",
       "       'Neutral', 'Small_gain', 'Large_gain', 'Large_gain', 'Large_loss',\n",
       "       'Neutral', 'Small_gain', 'Small_gain', 'Small_gain', 'Large_loss',\n",
       "       'Large_loss', 'Large_gain', 'Neutral', 'Neutral', 'Small_gain',\n",
       "       'Large_loss', 'Small_loss', 'Small_gain', 'Small_gain',\n",
       "       'Small_loss', 'Neutral', 'Small_loss', 'Small_loss', 'Large_loss',\n",
       "       'Large_loss', 'Large_gain', 'Small_loss', 'Large_loss', 'Neutral',\n",
       "       'Neutral', 'Large_gain', 'Large_gain', 'Neutral', 'Large_loss',\n",
       "       'Small_loss', 'Large_loss', 'Large_gain', 'Small_gain', 'Neutral',\n",
       "       'Large_gain', 'Small_gain', 'Neutral', 'Small_gain', 'Small_gain',\n",
       "       'Small_loss', 'Small_gain', 'Small_loss'], dtype='<U10')"
      ]
     },
     "execution_count": 5,
     "metadata": {},
     "output_type": "execute_result"
    }
   ],
   "source": [
    "run1"
=======
   "execution_count": null,
   "metadata": {},
   "outputs": [],
   "source": [
    "ML"
>>>>>>> Stashed changes
   ]
  },
  {
   "cell_type": "markdown",
   "metadata": {},
   "source": [
    "## Import BIDS data\n"
   ]
  },
  {
   "cell_type": "code",
   "execution_count": 3,
   "metadata": {},
   "outputs": [
    {
     "name": "stdout",
     "output_type": "stream",
     "text": [
      "Subjects with NaN data:['sub-999']\n",
      "The Number of Subjects retained is: 39 \n"
     ]
    }
   ],
   "source": [
    "Mat_Beh_dir='bids'\n",
    "EvFiles_list=natsorted([os.path.join(root,f) for root,dirs,files in os.walk(\n",
    "    Mat_Beh_dir) for f in files if 'run' in f])\n",
    "df_list=[]\n",
    "for file in EvFiles_list:\n",
    "    sub='sub-'+re.search('sub-(.*)/',file).group(1)\n",
    "    run='run-'+re.search('run-(.*)_even',file).group(1)\n",
    "    temp_df=pd.read_csv(file,sep='\\t')\n",
    "    temp_df['sub']=sub\n",
    "    temp_df['run']=run\n",
    "    df_list.append(temp_df)\n",
    "DF=pd.concat(df_list)\n",
    "\n",
    "print(\"Subjects with NaN data:%s\"%(DF[DF.isna().any(axis=1)]['sub'].unique()))\n",
    "DF=DF.dropna()\n",
    "print(\"The Number of Subjects retained is: %s \"%(len(DF['sub'].unique())))\n",
    "DF=DF.reset_index()"
   ]
  },
  {
   "cell_type": "code",
   "execution_count": 8,
   "metadata": {},
   "outputs": [
    {
     "data": {
      "text/html": [
       "<div>\n",
       "<style scoped>\n",
       "    .dataframe tbody tr th:only-of-type {\n",
       "        vertical-align: middle;\n",
       "    }\n",
       "\n",
       "    .dataframe tbody tr th {\n",
       "        vertical-align: top;\n",
       "    }\n",
       "\n",
       "    .dataframe thead th {\n",
       "        text-align: right;\n",
       "    }\n",
       "</style>\n",
       "<table border=\"1\" class=\"dataframe\">\n",
       "  <thead>\n",
       "    <tr style=\"text-align: right;\">\n",
       "      <th></th>\n",
       "      <th>sub</th>\n",
       "      <th>trial_type</th>\n",
       "      <th>index</th>\n",
       "      <th>trial_starts</th>\n",
       "      <th>target_starts</th>\n",
       "      <th>RT</th>\n",
       "      <th>thresh</th>\n",
       "      <th>outcome</th>\n",
       "      <th>Log_RT</th>\n",
       "    </tr>\n",
       "  </thead>\n",
       "  <tbody>\n",
       "    <tr>\n",
       "      <th>0</th>\n",
       "      <td>sub-1007</td>\n",
       "      <td>Large_gain</td>\n",
       "      <td>23.45</td>\n",
       "      <td>216.396944</td>\n",
       "      <td>219.357145</td>\n",
       "      <td>0.330519</td>\n",
       "      <td>0.407718</td>\n",
       "      <td>0.70</td>\n",
       "      <td>0.574908</td>\n",
       "    </tr>\n",
       "    <tr>\n",
       "      <th>1</th>\n",
       "      <td>sub-1007</td>\n",
       "      <td>Large_loss</td>\n",
       "      <td>23.50</td>\n",
       "      <td>214.234758</td>\n",
       "      <td>217.344892</td>\n",
       "      <td>0.308454</td>\n",
       "      <td>0.430307</td>\n",
       "      <td>0.70</td>\n",
       "      <td>0.555386</td>\n",
       "    </tr>\n",
       "    <tr>\n",
       "      <th>2</th>\n",
       "      <td>sub-1007</td>\n",
       "      <td>Neutral</td>\n",
       "      <td>24.60</td>\n",
       "      <td>223.766861</td>\n",
       "      <td>226.876937</td>\n",
       "      <td>0.306581</td>\n",
       "      <td>0.432753</td>\n",
       "      <td>0.85</td>\n",
       "      <td>0.553698</td>\n",
       "    </tr>\n",
       "    <tr>\n",
       "      <th>3</th>\n",
       "      <td>sub-1007</td>\n",
       "      <td>Small_gain</td>\n",
       "      <td>28.15</td>\n",
       "      <td>256.833365</td>\n",
       "      <td>259.793253</td>\n",
       "      <td>0.361322</td>\n",
       "      <td>0.392951</td>\n",
       "      <td>0.65</td>\n",
       "      <td>0.601101</td>\n",
       "    </tr>\n",
       "    <tr>\n",
       "      <th>4</th>\n",
       "      <td>sub-1007</td>\n",
       "      <td>Small_loss</td>\n",
       "      <td>22.80</td>\n",
       "      <td>208.707708</td>\n",
       "      <td>211.617775</td>\n",
       "      <td>0.384829</td>\n",
       "      <td>0.423703</td>\n",
       "      <td>0.50</td>\n",
       "      <td>0.620346</td>\n",
       "    </tr>\n",
       "  </tbody>\n",
       "</table>\n",
       "</div>"
      ],
      "text/plain": [
       "        sub  trial_type  index  trial_starts  target_starts        RT  \\\n",
       "0  sub-1007  Large_gain  23.45    216.396944     219.357145  0.330519   \n",
       "1  sub-1007  Large_loss  23.50    214.234758     217.344892  0.308454   \n",
       "2  sub-1007     Neutral  24.60    223.766861     226.876937  0.306581   \n",
       "3  sub-1007  Small_gain  28.15    256.833365     259.793253  0.361322   \n",
       "4  sub-1007  Small_loss  22.80    208.707708     211.617775  0.384829   \n",
       "\n",
       "     thresh  outcome    Log_RT  \n",
       "0  0.407718     0.70  0.574908  \n",
       "1  0.430307     0.70  0.555386  \n",
       "2  0.432753     0.85  0.553698  \n",
       "3  0.392951     0.65  0.601101  \n",
       "4  0.423703     0.50  0.620346  "
      ]
     },
     "metadata": {},
     "output_type": "display_data"
    },
    {
     "data": {
      "text/plain": [
       "<AxesSubplot:xlabel='trial_type', ylabel='outcome'>"
      ]
     },
     "execution_count": 8,
     "metadata": {},
     "output_type": "execute_result"
    },
    {
     "data": {
      "image/png": "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\n",
      "text/plain": [
       "<Figure size 432x288 with 1 Axes>"
      ]
     },
     "metadata": {
      "needs_background": "light"
     },
     "output_type": "display_data"
    }
   ],
   "source": [
    "import seaborn as sms\n",
    "DF_by=DF.groupby(by=['sub','trial_type']).mean().reset_index()\n",
    "DF_by['Log_RT']=DF_by['RT'].transform(func=np.sqrt)\n",
    "#DF_by=DF_by[DF_by['trial_type']!='Neutral']\n",
    "display(DF_by.head())\n",
    "sms.barplot(data=DF_by,x='trial_type',y='outcome',\n",
    "            order=['Large_loss','Small_loss','Neutral','Small_gain','Large_gain'])"
   ]
  },
  {
   "cell_type": "code",
   "execution_count": 9,
   "metadata": {},
   "outputs": [
    {
     "data": {
      "text/plain": [
       "<AxesSubplot:xlabel='trial_type', ylabel='RT'>"
      ]
     },
     "execution_count": 9,
     "metadata": {},
     "output_type": "execute_result"
    },
    {
     "data": {
      "image/png": "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\n",
      "text/plain": [
       "<Figure size 432x288 with 1 Axes>"
      ]
     },
     "metadata": {
      "needs_background": "light"
     },
     "output_type": "display_data"
    }
   ],
   "source": [
    "sms.barplot(data=DF_by,x='trial_type',y='RT',\n",
    "            order=['Large_loss','Small_loss','Neutral','Small_gain','Large_gain'])"
   ]
  },
  {
   "cell_type": "code",
   "execution_count": 11,
   "metadata": {},
   "outputs": [
    {
     "data": {
      "text/plain": [
       "<AxesSubplot:xlabel='trial_type', ylabel='thresh'>"
      ]
     },
     "execution_count": 11,
     "metadata": {},
     "output_type": "execute_result"
    },
    {
     "data": {
      "image/png": "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\n",
      "text/plain": [
       "<Figure size 432x288 with 1 Axes>"
      ]
     },
     "metadata": {
      "needs_background": "light"
     },
     "output_type": "display_data"
    }
   ],
   "source": [
    "sms.barplot(data=DF_by,x='trial_type',y='thresh')#,\n",
    "           # order=['Large_loss','Small_loss','Neutral','Small_gain','Large_gain'])"
   ]
  },
  {
   "cell_type": "code",
   "execution_count": 7,
   "metadata": {},
   "outputs": [
    {
     "data": {
      "text/plain": [
       "<seaborn.axisgrid.FacetGrid at 0x7f261e0244d0>"
      ]
     },
     "execution_count": 7,
     "metadata": {},
     "output_type": "execute_result"
    },
    {
     "data": {
      "image/png": "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\n",
      "text/plain": [
       "<Figure size 450.875x360 with 1 Axes>"
      ]
     },
     "metadata": {
      "needs_background": "light"
     },
     "output_type": "display_data"
    }
   ],
   "source": [
    "sms.lmplot(data=DF,x='RT',y='outcome',hue='trial_type',logistic=True)"
   ]
  },
  {
   "cell_type": "code",
   "execution_count": null,
   "metadata": {},
   "outputs": [],
   "source": []
  }
 ],
 "metadata": {
  "kernelspec": {
   "display_name": "Python 2",
   "language": "python",
   "name": "python2"
  },
  "language_info": {
   "codemirror_mode": {
    "name": "ipython",
    "version": 2
   },
   "file_extension": ".py",
   "mimetype": "text/x-python",
   "name": "python",
   "nbconvert_exporter": "python",
   "pygments_lexer": "ipython2",
   "version": "2.7.15"
  }
 },
 "nbformat": 4,
 "nbformat_minor": 4
}
