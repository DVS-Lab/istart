{
 "cells": [
  {
   "cell_type": "code",
   "execution_count": 2,
   "metadata": {},
   "outputs": [],
   "source": [
    "#Import the Libraries\n",
    "import numpy as np\n",
    "from scipy.io import loadmat  # this is the SciPy module that loads mat-files\n",
    "import matplotlib.pyplot as plt\n",
    "from datetime import datetime, date, time\n",
    "import pandas as pd\n",
    "import os\n",
    "from natsort import natsorted\n",
    "import re"
   ]
  },
  {
   "cell_type": "markdown",
   "metadata": {},
   "source": [
    "## MATLAB to BIDS"
   ]
  },
  {
   "cell_type": "code",
   "execution_count": 3,
   "metadata": {},
   "outputs": [
    {
     "name": "stdout",
     "output_type": "stream",
     "text": [
      "The number of Subjects are: 48\n",
      "The number of files are: 64\n",
      "----------------------------------------\n",
      "Problem with sub-1253 run-1\n",
      "Problem with sub-3101 run-1\n",
      "Problem with sub-3122 run-1\n"
     ]
    }
   ],
   "source": [
    "#Make a list of the files\n",
    "Mat_Beh_dir='data'\n",
    "ML_EvFiles_list=natsorted([os.path.join(root,f) for root,dirs,files in os.walk(\n",
    "    Mat_Beh_dir) for f in files if 'run' in f])\n",
    "print(\"The number of Subjects are: %s\"%(len([x for x in os.listdir(Mat_Beh_dir) if x.startswith('sub')])))\n",
    "print(\"The number of files are: %s\"%(len(ML_EvFiles_list)))\n",
    "print(\"----------------------------------------\")\n",
    "#Make Conditions for Run1 and Run2\n",
    "run_cond=loadmat('timing/run1.mat')\n",
    "run1=run_cond['run']['cond'][0,0]\n",
    "run1 = np.where(run1==[1], 'Large_gain', run1)\n",
    "run1 = np.where(run1==['2'], 'Large_loss', run1)\n",
    "run1 = np.where(run1==['3'], 'Small_gain', run1)\n",
    "run1 = np.where(run1==['4'], 'Small_loss', run1)\n",
    "run1 = np.where(run1==['5'], 'Neutral', run1)\n",
    "run1=np.concatenate(run1)\n",
    "\n",
    "run_cond=loadmat('timing/run2.mat')\n",
    "run2=run_cond['run']['cond'][0,0]\n",
    "run2 = np.where(run2==[1], 'Large_gain', run2)\n",
    "run2 = np.where(run2==['2'], 'Large_loss', run2)\n",
    "run2 = np.where(run2==['3'], 'Small_gain', run2)\n",
    "run2 = np.where(run2==['4'], 'Small_loss', run2)\n",
    "run2 = np.where(run2==['5'], 'Neutral', run2)\n",
    "run2=np.concatenate(run2)\n",
    "\n",
    "#Load the .mat convert to dataframe add trial_type and detect bad data\n",
    "for ML_EvFile in ML_EvFiles_list:\n",
    "    sub='sub-'+re.search('sub-(.*)/',ML_EvFile).group(1)\n",
    "    run='run-'+re.search('run-(.*)_out',ML_EvFile).group(1)\n",
    "    mat = loadmat(ML_EvFile)  # load mat-file\n",
    "    mdata = mat['output']  # variable in mat file\n",
    "    mdtype = mdata.dtype  # dtypes of structures are \"unsized objects\"\n",
    "    # * SciiencPy reads in structures as structured NumPy arrays of dtype object\n",
    "    # * The size of the array is the size of the structure array, not the number\n",
    "    #   elements in any particular field. The shape defaults to 2-dimensional.\n",
    "    # * For convene make a dictionary of the data using the names from dtypes\n",
    "    # * Since the structure has only one element, but is 2-D, index it at [0, 0]\n",
    "    ndata = {n: mdata[n][0, 0] for n in mdtype.names}\n",
    "    # Reconstruct the columns of the data table from just the time series\n",
    "    # Use the number of intervals to test if a field is a column or metadata\n",
    "    columns = [n for n in ndata]\n",
    "    #Check fo frame\n",
    "    # now make a data frame, setting the time stamps as the index\n",
    "    lens=[len(x[0]) for x in ndata.values()]\n",
    "    if lens.count(lens[0]) == len(lens):\n",
    "        df = pd.DataFrame(np.transpose(np.concatenate([ndata[c] for c in columns])),\n",
    "                  columns=columns)\n",
    "        if run=='run-1':\n",
    "            if len(df)==50:\n",
    "                df['trial_type']=run1[0:50]\n",
    "            elif len(df)==75:\n",
    "                df['trial_type']=run1\n",
    "        if run=='run-2':\n",
    "            df['trial_type']=run2\n",
    "        os.makedirs('bids/%s'%(sub),exist_ok=True) \n",
    "        df.to_csv('bids/%s/%s_task-MID_%s_events.tsv'%(sub,sub,run),sep = '\\t', index=False)\n",
    "    else:\n",
    "        \n",
    "        print(\"Problem with %s %s\"%(sub,run))"
   ]
  },
  {
   "cell_type": "markdown",
   "metadata": {},
   "source": [
    "## Import BIDS data\n"
   ]
  },
  {
   "cell_type": "code",
   "execution_count": 4,
   "metadata": {},
   "outputs": [
    {
     "name": "stdout",
     "output_type": "stream",
     "text": [
      "Subjects with NaN data:['sub-999']\n",
      "The Number of Subjects retained is: 39 \n"
     ]
    }
   ],
   "source": [
    "Mat_Beh_dir='bids'\n",
    "EvFiles_list=natsorted([os.path.join(root,f) for root,dirs,files in os.walk(\n",
    "    Mat_Beh_dir) for f in files if 'run' in f])\n",
    "df_list=[]\n",
    "for file in EvFiles_list:\n",
    "    sub='sub-'+re.search('sub-(.*)/',file).group(1)\n",
    "    run='run-'+re.search('run-(.*)_even',file).group(1)\n",
    "    temp_df=pd.read_csv(file,sep='\\t')\n",
    "    temp_df['sub']=sub\n",
    "    temp_df['run']=run\n",
    "    df_list.append(temp_df)\n",
    "DF=pd.concat(df_list)\n",
    "\n",
    "print(\"Subjects with NaN data:%s\"%(DF[DF.isna().any(axis=1)]['sub'].unique()))\n",
    "DF=DF.dropna()\n",
    "print(\"The Number of Subjects retained is: %s \"%(len(DF['sub'].unique())))\n",
    "DF=DF.reset_index()"
   ]
  },
  {
   "cell_type": "code",
   "execution_count": 25,
   "metadata": {},
   "outputs": [
    {
     "data": {
      "text/html": [
       "<div>\n",
       "<style scoped>\n",
       "    .dataframe tbody tr th:only-of-type {\n",
       "        vertical-align: middle;\n",
       "    }\n",
       "\n",
       "    .dataframe tbody tr th {\n",
       "        vertical-align: top;\n",
       "    }\n",
       "\n",
       "    .dataframe thead th {\n",
       "        text-align: right;\n",
       "    }\n",
       "</style>\n",
       "<table border=\"1\" class=\"dataframe\">\n",
       "  <thead>\n",
       "    <tr style=\"text-align: right;\">\n",
       "      <th></th>\n",
       "      <th>sub</th>\n",
       "      <th>trial_type</th>\n",
       "      <th>index</th>\n",
       "      <th>trial_starts</th>\n",
       "      <th>target_starts</th>\n",
       "      <th>RT</th>\n",
       "      <th>thresh</th>\n",
       "      <th>outcome</th>\n",
       "      <th>Log_RT</th>\n",
       "    </tr>\n",
       "  </thead>\n",
       "  <tbody>\n",
       "    <tr>\n",
       "      <th>0</th>\n",
       "      <td>sub-1007</td>\n",
       "      <td>Large_gain</td>\n",
       "      <td>23.45</td>\n",
       "      <td>216.396944</td>\n",
       "      <td>219.357145</td>\n",
       "      <td>0.330519</td>\n",
       "      <td>0.407718</td>\n",
       "      <td>0.70</td>\n",
       "      <td>0.574908</td>\n",
       "    </tr>\n",
       "    <tr>\n",
       "      <th>1</th>\n",
       "      <td>sub-1007</td>\n",
       "      <td>Large_loss</td>\n",
       "      <td>23.50</td>\n",
       "      <td>214.234758</td>\n",
       "      <td>217.344892</td>\n",
       "      <td>0.308454</td>\n",
       "      <td>0.430307</td>\n",
       "      <td>0.70</td>\n",
       "      <td>0.555386</td>\n",
       "    </tr>\n",
       "    <tr>\n",
       "      <th>3</th>\n",
       "      <td>sub-1007</td>\n",
       "      <td>Small_gain</td>\n",
       "      <td>28.15</td>\n",
       "      <td>256.833365</td>\n",
       "      <td>259.793253</td>\n",
       "      <td>0.361322</td>\n",
       "      <td>0.392951</td>\n",
       "      <td>0.65</td>\n",
       "      <td>0.601101</td>\n",
       "    </tr>\n",
       "    <tr>\n",
       "      <th>4</th>\n",
       "      <td>sub-1007</td>\n",
       "      <td>Small_loss</td>\n",
       "      <td>22.80</td>\n",
       "      <td>208.707708</td>\n",
       "      <td>211.617775</td>\n",
       "      <td>0.384829</td>\n",
       "      <td>0.423703</td>\n",
       "      <td>0.50</td>\n",
       "      <td>0.620346</td>\n",
       "    </tr>\n",
       "    <tr>\n",
       "      <th>5</th>\n",
       "      <td>sub-1009</td>\n",
       "      <td>Large_gain</td>\n",
       "      <td>23.45</td>\n",
       "      <td>216.397933</td>\n",
       "      <td>219.357990</td>\n",
       "      <td>0.266897</td>\n",
       "      <td>0.366865</td>\n",
       "      <td>0.85</td>\n",
       "      <td>0.516621</td>\n",
       "    </tr>\n",
       "  </tbody>\n",
       "</table>\n",
       "</div>"
      ],
      "text/plain": [
       "        sub  trial_type  index  trial_starts  target_starts        RT  \\\n",
       "0  sub-1007  Large_gain  23.45    216.396944     219.357145  0.330519   \n",
       "1  sub-1007  Large_loss  23.50    214.234758     217.344892  0.308454   \n",
       "3  sub-1007  Small_gain  28.15    256.833365     259.793253  0.361322   \n",
       "4  sub-1007  Small_loss  22.80    208.707708     211.617775  0.384829   \n",
       "5  sub-1009  Large_gain  23.45    216.397933     219.357990  0.266897   \n",
       "\n",
       "     thresh  outcome    Log_RT  \n",
       "0  0.407718     0.70  0.574908  \n",
       "1  0.430307     0.70  0.555386  \n",
       "3  0.392951     0.65  0.601101  \n",
       "4  0.423703     0.50  0.620346  \n",
       "5  0.366865     0.85  0.516621  "
      ]
     },
     "metadata": {},
     "output_type": "display_data"
    },
    {
     "data": {
      "text/plain": [
       "<AxesSubplot:xlabel='trial_type', ylabel='outcome'>"
      ]
     },
     "execution_count": 25,
     "metadata": {},
     "output_type": "execute_result"
    },
    {
     "data": {
      "image/png": "[encoded data removed]",
      "text/plain": [
       "<Figure size 432x288 with 1 Axes>"
      ]
     },
     "metadata": {
      "needs_background": "light"
     },
     "output_type": "display_data"
    }
   ],
   "source": [
    "import seaborn as sms\n",
    "DF_by=DF.groupby(by=['sub','trial_type']).mean().reset_index()\n",
    "DF_by['Log_RT']=DF_by['RT'].transform(func=np.sqrt)\n",
    "DF_by=DF_by[DF_by['trial_type']!='Neutral']\n",
    "display(DF_by.head())\n",
    "sms.barplot(data=DF_by,x='trial_type',y='outcome',\n",
    "            order=['Large_loss','Small_loss','Small_gain','Large_gain'])"
   ]
  },
  {
   "cell_type": "code",
   "execution_count": 27,
   "metadata": {},
   "outputs": [
    {
     "data": {
      "text/plain": [
       "<AxesSubplot:xlabel='trial_type', ylabel='RT'>"
      ]
     },
     "execution_count": 27,
     "metadata": {},
     "output_type": "execute_result"
    },
    {
     "data": {
      "image/png": "[encoded data removed]",
      "text/plain": [
       "<Figure size 432x288 with 1 Axes>"
      ]
     },
     "metadata": {
      "needs_background": "light"
     },
     "output_type": "display_data"
    }
   ],
   "source": [
    "sms.barplot(data=DF_by,x='trial_type',y='RT',\n",
    "            order=['Large_loss','Small_loss','Small_gain','Large_gain'])"
   ]
  },
  {
   "cell_type": "code",
   "execution_count": 29,
   "metadata": {},
   "outputs": [
    {
     "data": {
      "text/plain": [
       "<AxesSubplot:xlabel='trial_type', ylabel='thresh'>"
      ]
     },
     "execution_count": 29,
     "metadata": {},
     "output_type": "execute_result"
    },
    {
     "data": {
      "image/png": "[encoded data removed]",
      "text/plain": [
       "<Figure size 432x288 with 1 Axes>"
      ]
     },
     "metadata": {
      "needs_background": "light"
     },
     "output_type": "display_data"
    }
   ],
   "source": [
    "sms.barplot(data=DF_by,x='trial_type',y='thresh',\n",
    "            order=['Large_loss','Small_loss','Small_gain','Large_gain'])"
   ]
  },
  {
   "cell_type": "code",
   "execution_count": null,
   "metadata": {},
   "outputs": [],
   "source": []
  }
 ],
 "metadata": {
  "kernelspec": {
   "display_name": "Python 3",
   "language": "python",
   "name": "python3"
  },
  "language_info": {
   "codemirror_mode": {
    "name": "ipython",
    "version": 3
   },
   "file_extension": ".py",
   "mimetype": "text/x-python",
   "name": "python",
   "nbconvert_exporter": "python",
   "pygments_lexer": "ipython3",
   "version": "3.7.9"
  }
 },
 "nbformat": 4,
 "nbformat_minor": 4
}
