{
 "cells": [
  {
   "cell_type": "code",
   "execution_count": 1,
   "metadata": {},
   "outputs": [
    {
     "name": "stdout",
     "output_type": "stream",
     "text": [
      "['sub-998_task-ultimatum_run-1_raw.csv']\n"
     ]
    }
   ],
   "source": [
    "import os  # import os is an important library\n",
    "import re # Regular expression\n",
    "\n",
    "datadir ='.' # Our path is HERE.\n",
    "\n",
    "filelist = os.listdir(datadir) # os.listdir is a function that lists everything in directory. Like ls.\n",
    "filelist = [f for f in filelist if f.startswith('sub')] # f is a string variable. \n",
    "filelist = [f for f in filelist if f.endswith('.csv')] # f is a string variable. \n",
    "print(filelist) \n",
    "\n",
    "f = filelist\n",
    "\n",
    "\n",
    "\n"
   ]
  },
  {
   "cell_type": "code",
   "execution_count": 2,
   "metadata": {},
   "outputs": [
    {
     "name": "stdout",
     "output_type": "stream",
     "text": [
      "sub-998_task-ultimatum_run-1_raw.csv\n"
     ]
    },
    {
     "data": {
      "text/html": [
       "<div>\n",
       "<style scoped>\n",
       "    .dataframe tbody tr th:only-of-type {\n",
       "        vertical-align: middle;\n",
       "    }\n",
       "\n",
       "    .dataframe tbody tr th {\n",
       "        vertical-align: top;\n",
       "    }\n",
       "\n",
       "    .dataframe thead th {\n",
       "        text-align: right;\n",
       "    }\n",
       "</style>\n",
       "<table border=\"1\" class=\"dataframe\">\n",
       "  <thead>\n",
       "    <tr style=\"text-align: right;\">\n",
       "      <th></th>\n",
       "      <th>Trial</th>\n",
       "      <th>Onset</th>\n",
       "      <th>Endowment</th>\n",
       "      <th>Response Time</th>\n",
       "      <th>Duration</th>\n",
       "      <th>L_Option</th>\n",
       "      <th>R_Option</th>\n",
       "      <th>Response</th>\n",
       "    </tr>\n",
       "  </thead>\n",
       "  <tbody>\n",
       "    <tr>\n",
       "      <th>0</th>\n",
       "      <td>1</td>\n",
       "      <td>6.541131</td>\n",
       "      <td>25</td>\n",
       "      <td>0.0038329996</td>\n",
       "      <td>0.517002</td>\n",
       "      <td>8.75</td>\n",
       "      <td>0</td>\n",
       "      <td>3.0</td>\n",
       "    </tr>\n",
       "    <tr>\n",
       "      <th>1</th>\n",
       "      <td>2</td>\n",
       "      <td>15.090249</td>\n",
       "      <td>17</td>\n",
       "      <td>0.0035220003</td>\n",
       "      <td>0.5159029</td>\n",
       "      <td>4.25</td>\n",
       "      <td>0</td>\n",
       "      <td>2.0</td>\n",
       "    </tr>\n",
       "    <tr>\n",
       "      <th>2</th>\n",
       "      <td>3</td>\n",
       "      <td>20.139559</td>\n",
       "      <td>17</td>\n",
       "      <td>0.0034529008</td>\n",
       "      <td>0.5175733</td>\n",
       "      <td>5.95</td>\n",
       "      <td>0</td>\n",
       "      <td>3.0</td>\n",
       "    </tr>\n",
       "    <tr>\n",
       "      <th>3</th>\n",
       "      <td>4</td>\n",
       "      <td>--</td>\n",
       "      <td>15</td>\n",
       "      <td>6.9986124</td>\n",
       "      <td>7.516954</td>\n",
       "      <td>0.3</td>\n",
       "      <td>0.5</td>\n",
       "      <td>2.0</td>\n",
       "    </tr>\n",
       "    <tr>\n",
       "      <th>4</th>\n",
       "      <td>5</td>\n",
       "      <td>--</td>\n",
       "      <td>15</td>\n",
       "      <td>14.831379</td>\n",
       "      <td>15.3489</td>\n",
       "      <td>0.5</td>\n",
       "      <td>0.7</td>\n",
       "      <td>2.0</td>\n",
       "    </tr>\n",
       "  </tbody>\n",
       "</table>\n",
       "</div>"
      ],
      "text/plain": [
       "  Trial      Onset Endowment Response Time   Duration L_Option R_Option  \\\n",
       "0     1   6.541131        25  0.0038329996   0.517002     8.75        0   \n",
       "1     2  15.090249        17  0.0035220003  0.5159029     4.25        0   \n",
       "2     3  20.139559        17  0.0034529008  0.5175733     5.95        0   \n",
       "3     4         --        15     6.9986124   7.516954      0.3      0.5   \n",
       "4     5         --        15     14.831379    15.3489      0.5      0.7   \n",
       "\n",
       "  Response  \n",
       "0      3.0  \n",
       "1      2.0  \n",
       "2      3.0  \n",
       "3      2.0  \n",
       "4      2.0  "
      ]
     },
     "metadata": {},
     "output_type": "display_data"
    },
    {
     "name": "stdout",
     "output_type": "stream",
     "text": [
      "998\n",
      "1\n"
     ]
    }
   ],
   "source": [
    "import pandas as pd # Data frame tool imported as nickname\n",
    "\n",
    "for f in filelist: # looping through the filelist\n",
    "    print(f)\n",
    "    sub=re.search('sub-(.*)_task', f).group(1)\n",
    "    run=re.search('run-(.*)_raw.csv', f).group(1)\n",
    "    \n",
    "    Behavior = pd.read_csv(f) # Reads dataframe CSV tool $ sep: tab separated 0 calls the first element in the list.\n",
    "    \n",
    "    Behavior = Behavior[['nTrial','decision_onset','Endowment','rt','trialDuration','L_Option','R_Option','resp']]\n",
    "\n",
    "    Behavior.columns=['Trial','Onset','Endowment','Response Time','Duration','L_Option','R_Option','Response']\n",
    "    \n",
    "    display(Behavior.head())\n",
    "\n",
    "    Behavior.to_csv('sub-%s_task-ultimatum_run-%s_events.tsv'%(sub,run),sep = '\\t',index = False) # Saves to tsv # %s - String, index shuts off the left indexing from zero.\n",
    "\n",
    "print(sub)   \n",
    "print(run)\n"
   ]
  },
  {
   "cell_type": "code",
   "execution_count": null,
   "metadata": {},
   "outputs": [],
   "source": []
  },
  {
   "cell_type": "code",
   "execution_count": null,
   "metadata": {},
   "outputs": [],
   "source": []
  },
  {
   "cell_type": "code",
   "execution_count": null,
   "metadata": {},
   "outputs": [],
   "source": []
  },
  {
   "cell_type": "code",
   "execution_count": null,
   "metadata": {},
   "outputs": [],
   "source": []
  },
  {
   "cell_type": "code",
   "execution_count": null,
   "metadata": {},
   "outputs": [],
   "source": []
  },
  {
   "cell_type": "code",
   "execution_count": null,
   "metadata": {},
   "outputs": [],
   "source": []
  },
  {
   "cell_type": "code",
   "execution_count": null,
   "metadata": {},
   "outputs": [],
   "source": []
  },
  {
   "cell_type": "code",
   "execution_count": null,
   "metadata": {},
   "outputs": [],
   "source": []
  }
 ],
 "metadata": {
  "kernelspec": {
   "display_name": "Python 3",
   "language": "python",
   "name": "python3"
  },
  "language_info": {
   "codemirror_mode": {
    "name": "ipython",
    "version": 3
   },
   "file_extension": ".py",
   "mimetype": "text/x-python",
   "name": "python",
   "nbconvert_exporter": "python",
   "pygments_lexer": "ipython3",
   "version": "3.7.3"
  }
 },
 "nbformat": 4,
 "nbformat_minor": 2
}
