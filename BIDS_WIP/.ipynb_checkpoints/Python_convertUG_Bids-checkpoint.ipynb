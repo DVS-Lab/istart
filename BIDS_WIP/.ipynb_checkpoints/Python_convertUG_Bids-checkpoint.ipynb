{
 "cells": [
  {
   "cell_type": "code",
   "execution_count": 1,
   "metadata": {},
   "outputs": [],
   "source": [
    "# 12/06/2019- Updated to better format for 3 column file. Now output file is onset, trial_type, duration, response_time, endowment, etc.\n",
    "\n",
    "import os  # import os is an important library\n",
    "import re # Regular expression\n",
    "\n",
    "datadir ='.' # Our path is HERE.\n",
    "\n",
    "filelist = os.listdir(datadir) # os.listdir is a function that lists everything in directory. Like ls.\n",
    "filelist = [f for f in filelist if f.startswith('sub')] # f is a string variable. \n",
    "filelist = [f for f in filelist if f.endswith('.csv')] # f is a string variable. \n",
    "print(filelist) \n",
    "\n",
    "f = filelist\n"
   ]
  },
  {
   "cell_type": "code",
   "execution_count": 1,
   "metadata": {},
   "outputs": [
    {
     "ename": "NameError",
     "evalue": "name 'filelist' is not defined",
     "output_type": "error",
     "traceback": [
      "\u001b[1;31m---------------------------------------------------------------------------\u001b[0m",
      "\u001b[1;31mNameError\u001b[0m                                 Traceback (most recent call last)",
      "\u001b[1;32m<ipython-input-1-d9ae41dadb00>\u001b[0m in \u001b[0;36m<module>\u001b[1;34m\u001b[0m\n\u001b[0;32m      1\u001b[0m \u001b[1;32mimport\u001b[0m \u001b[0mpandas\u001b[0m \u001b[1;32mas\u001b[0m \u001b[0mpd\u001b[0m \u001b[1;31m# Data frame tool imported as nickname\u001b[0m\u001b[1;33m\u001b[0m\u001b[1;33m\u001b[0m\u001b[0m\n\u001b[0;32m      2\u001b[0m \u001b[1;33m\u001b[0m\u001b[0m\n\u001b[1;32m----> 3\u001b[1;33m \u001b[1;32mfor\u001b[0m \u001b[0mf\u001b[0m \u001b[1;32min\u001b[0m \u001b[0mfilelist\u001b[0m\u001b[1;33m:\u001b[0m \u001b[1;31m# looping through the filelist\u001b[0m\u001b[1;33m\u001b[0m\u001b[1;33m\u001b[0m\u001b[0m\n\u001b[0m\u001b[0;32m      4\u001b[0m     \u001b[0mprint\u001b[0m\u001b[1;33m(\u001b[0m\u001b[0mf\u001b[0m\u001b[1;33m)\u001b[0m\u001b[1;33m\u001b[0m\u001b[1;33m\u001b[0m\u001b[0m\n\u001b[0;32m      5\u001b[0m     \u001b[0msub\u001b[0m\u001b[1;33m=\u001b[0m\u001b[0mre\u001b[0m\u001b[1;33m.\u001b[0m\u001b[0msearch\u001b[0m\u001b[1;33m(\u001b[0m\u001b[1;34m'sub-(.*)_task'\u001b[0m\u001b[1;33m,\u001b[0m \u001b[0mf\u001b[0m\u001b[1;33m)\u001b[0m\u001b[1;33m.\u001b[0m\u001b[0mgroup\u001b[0m\u001b[1;33m(\u001b[0m\u001b[1;36m1\u001b[0m\u001b[1;33m)\u001b[0m\u001b[1;33m\u001b[0m\u001b[1;33m\u001b[0m\u001b[0m\n",
      "\u001b[1;31mNameError\u001b[0m: name 'filelist' is not defined"
     ]
    }
   ],
   "source": [
    "import pandas as pd # Data frame tool imported as nickname\n",
    "\n",
    "for f in filelist: # looping through the filelist\n",
    "    print(f)\n",
    "    sub=re.search('sub-(.*)_task', f).group(1)\n",
    "    run=re.search('run-(.*)_raw.csv', f).group(1)\n",
    "    \n",
    "    Behavior = pd.read_csv(f) # Reads dataframe CSV tool $ sep: tab separated 0 calls the first element in the list.\n",
    "\n",
    "    #Behavior = Behavior[['nTrial','trial_type','decision_onset','Endowment','rt','trialDuration','L_Option','R_Option','resp']]\n",
    "\n",
    "    #Behavior.columns=['Trial','trial_type','Onset','Endowment','Response Time','Duration','L_Option','R_Option','Response']\n",
    "    \n",
    "    Behavior = Behavior[['Onset','trial_type','Duration','rt','Endowment','trialDuration','nTrial','L_Option','R_Option','resp']]\n",
    "\n",
    "    Behavior.columns=['onset','trial_type','duration','response_time','endowment','trial_Duration','nTrial','L_Option','R_Option','Response']\n",
    "    \n",
    "    display(Behavior.head())\n",
    "\n",
    "    Behavior.to_csv('sub-%s_task-ultimatum_run-%s_events.tsv'%(sub,run),sep = '\\t',index = False) # Saves to tsv # %s - String, index shuts off the left indexing from zero.\n",
    "\n",
    "print(sub)   \n",
    "print(run)\n"
   ]
  },
  {
   "cell_type": "code",
   "execution_count": null,
   "metadata": {},
   "outputs": [],
   "source": []
  },
  {
   "cell_type": "code",
   "execution_count": null,
   "metadata": {},
   "outputs": [],
   "source": []
  },
  {
   "cell_type": "code",
   "execution_count": null,
   "metadata": {},
   "outputs": [],
   "source": []
  },
  {
   "cell_type": "code",
   "execution_count": null,
   "metadata": {},
   "outputs": [],
   "source": []
  },
  {
   "cell_type": "code",
   "execution_count": null,
   "metadata": {},
   "outputs": [],
   "source": []
  },
  {
   "cell_type": "code",
   "execution_count": null,
   "metadata": {},
   "outputs": [],
   "source": []
  },
  {
   "cell_type": "code",
   "execution_count": null,
   "metadata": {},
   "outputs": [],
   "source": []
  },
  {
   "cell_type": "code",
   "execution_count": null,
   "metadata": {},
   "outputs": [],
   "source": []
  }
 ],
 "metadata": {
  "kernelspec": {
   "display_name": "Python 3",
   "language": "python",
   "name": "python3"
  },
  "language_info": {
   "codemirror_mode": {
    "name": "ipython",
    "version": 3
   },
   "file_extension": ".py",
   "mimetype": "text/x-python",
   "name": "python",
   "nbconvert_exporter": "python",
   "pygments_lexer": "ipython3",
   "version": "3.7.3"
  }
 },
 "nbformat": 4,
 "nbformat_minor": 2
}
