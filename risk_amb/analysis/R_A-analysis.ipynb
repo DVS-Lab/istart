{
 "cells": [
  {
   "cell_type": "code",
   "execution_count": 2,
   "metadata": {},
   "outputs": [],
   "source": [
    "import seaborn as sns\n",
    "import numpy as np\n",
    "import pandas as pd\n",
    "import os"
   ]
  },
  {
   "cell_type": "code",
   "execution_count": 39,
   "metadata": {},
   "outputs": [
    {
     "data": {
      "text/plain": [
       "['/home/jeff/Projects/InProgress/istart/risk_amb/data/sub-1001/sub-1001_task-ambiguity_events.csv',\n",
       " '/home/jeff/Projects/InProgress/istart/risk_amb/data/sub-1001/sub-1001_task-risk_events.csv']"
      ]
     },
     "metadata": {},
     "output_type": "display_data"
    }
   ],
   "source": [
    "data_dir=os.path.abspath(\"../data/\")\n",
    "sub=\"sub-1001\"\n",
    "sub_dir=data_dir+\"/\"+sub\n",
    "\n",
    "events=[]\n",
    "for root, dirs, files in os.walk(sub_dir):\n",
    "    for f in files:\n",
    "        if f.endswith(\"events.csv\"):\n",
    "            events.append(os.path.join(root,f))\n",
    "display(events)"
   ]
  },
  {
   "cell_type": "code",
   "execution_count": 43,
   "metadata": {},
   "outputs": [
    {
     "data": {
      "text/html": [
       "<div>\n",
       "<style scoped>\n",
       "    .dataframe tbody tr th:only-of-type {\n",
       "        vertical-align: middle;\n",
       "    }\n",
       "\n",
       "    .dataframe tbody tr th {\n",
       "        vertical-align: top;\n",
       "    }\n",
       "\n",
       "    .dataframe thead th {\n",
       "        text-align: right;\n",
       "    }\n",
       "</style>\n",
       "<table border=\"1\" class=\"dataframe\">\n",
       "  <thead>\n",
       "    <tr style=\"text-align: right;\">\n",
       "      <th></th>\n",
       "      <th>LotisLeft</th>\n",
       "      <th>Lot_per</th>\n",
       "      <th>Lot_mon</th>\n",
       "      <th>Lot_color</th>\n",
       "      <th>Sure_mon</th>\n",
       "      <th>dist</th>\n",
       "      <th>response</th>\n",
       "      <th>RT</th>\n",
       "      <th>choose_lot</th>\n",
       "    </tr>\n",
       "  </thead>\n",
       "  <tbody>\n",
       "    <tr>\n",
       "      <th>0</th>\n",
       "      <td>1</td>\n",
       "      <td>10</td>\n",
       "      <td>13</td>\n",
       "      <td>blue</td>\n",
       "      <td>7</td>\n",
       "      <td>wide</td>\n",
       "      <td>['j']</td>\n",
       "      <td>4.146035</td>\n",
       "      <td>False</td>\n",
       "    </tr>\n",
       "    <tr>\n",
       "      <th>1</th>\n",
       "      <td>0</td>\n",
       "      <td>0</td>\n",
       "      <td>13</td>\n",
       "      <td>blue</td>\n",
       "      <td>7</td>\n",
       "      <td>wide</td>\n",
       "      <td>['f']</td>\n",
       "      <td>2.024450</td>\n",
       "      <td>False</td>\n",
       "    </tr>\n",
       "    <tr>\n",
       "      <th>2</th>\n",
       "      <td>0</td>\n",
       "      <td>0</td>\n",
       "      <td>13</td>\n",
       "      <td>blue</td>\n",
       "      <td>7</td>\n",
       "      <td>wide</td>\n",
       "      <td>['f']</td>\n",
       "      <td>1.240390</td>\n",
       "      <td>False</td>\n",
       "    </tr>\n",
       "    <tr>\n",
       "      <th>3</th>\n",
       "      <td>1</td>\n",
       "      <td>90</td>\n",
       "      <td>13</td>\n",
       "      <td>blue</td>\n",
       "      <td>7</td>\n",
       "      <td>wide</td>\n",
       "      <td>['f']</td>\n",
       "      <td>1.525565</td>\n",
       "      <td>True</td>\n",
       "    </tr>\n",
       "    <tr>\n",
       "      <th>4</th>\n",
       "      <td>0</td>\n",
       "      <td>100</td>\n",
       "      <td>13</td>\n",
       "      <td>blue</td>\n",
       "      <td>7</td>\n",
       "      <td>wide</td>\n",
       "      <td>['j']</td>\n",
       "      <td>1.704006</td>\n",
       "      <td>False</td>\n",
       "    </tr>\n",
       "  </tbody>\n",
       "</table>\n",
       "</div>"
      ],
      "text/plain": [
       "   LotisLeft  Lot_per  Lot_mon Lot_color  Sure_mon  dist response        RT  \\\n",
       "0          1       10       13      blue         7  wide    ['j']  4.146035   \n",
       "1          0        0       13      blue         7  wide    ['f']  2.024450   \n",
       "2          0        0       13      blue         7  wide    ['f']  1.240390   \n",
       "3          1       90       13      blue         7  wide    ['f']  1.525565   \n",
       "4          0      100       13      blue         7  wide    ['j']  1.704006   \n",
       "\n",
       "   choose_lot  \n",
       "0       False  \n",
       "1       False  \n",
       "2       False  \n",
       "3        True  \n",
       "4       False  "
      ]
     },
     "metadata": {},
     "output_type": "display_data"
    },
    {
     "data": {
      "text/html": [
       "<div>\n",
       "<style scoped>\n",
       "    .dataframe tbody tr th:only-of-type {\n",
       "        vertical-align: middle;\n",
       "    }\n",
       "\n",
       "    .dataframe tbody tr th {\n",
       "        vertical-align: top;\n",
       "    }\n",
       "\n",
       "    .dataframe thead th {\n",
       "        text-align: right;\n",
       "    }\n",
       "</style>\n",
       "<table border=\"1\" class=\"dataframe\">\n",
       "  <thead>\n",
       "    <tr style=\"text-align: right;\">\n",
       "      <th></th>\n",
       "      <th>Risk_per</th>\n",
       "      <th>Money</th>\n",
       "      <th>Color</th>\n",
       "      <th>Amb</th>\n",
       "      <th>RiskisLeft</th>\n",
       "      <th>response</th>\n",
       "      <th>RT</th>\n",
       "      <th>dist</th>\n",
       "      <th>choose_risk</th>\n",
       "    </tr>\n",
       "  </thead>\n",
       "  <tbody>\n",
       "    <tr>\n",
       "      <th>0</th>\n",
       "      <td>20</td>\n",
       "      <td>8</td>\n",
       "      <td>blue</td>\n",
       "      <td>100</td>\n",
       "      <td>0</td>\n",
       "      <td>['f']</td>\n",
       "      <td>2.662200</td>\n",
       "      <td>wide</td>\n",
       "      <td>False</td>\n",
       "    </tr>\n",
       "    <tr>\n",
       "      <th>1</th>\n",
       "      <td>30</td>\n",
       "      <td>8</td>\n",
       "      <td>blue</td>\n",
       "      <td>100</td>\n",
       "      <td>1</td>\n",
       "      <td>['j']</td>\n",
       "      <td>2.286832</td>\n",
       "      <td>wide</td>\n",
       "      <td>False</td>\n",
       "    </tr>\n",
       "    <tr>\n",
       "      <th>2</th>\n",
       "      <td>40</td>\n",
       "      <td>8</td>\n",
       "      <td>blue</td>\n",
       "      <td>100</td>\n",
       "      <td>0</td>\n",
       "      <td>['f']</td>\n",
       "      <td>1.986790</td>\n",
       "      <td>wide</td>\n",
       "      <td>False</td>\n",
       "    </tr>\n",
       "    <tr>\n",
       "      <th>3</th>\n",
       "      <td>50</td>\n",
       "      <td>8</td>\n",
       "      <td>blue</td>\n",
       "      <td>100</td>\n",
       "      <td>1</td>\n",
       "      <td>['j']</td>\n",
       "      <td>3.408539</td>\n",
       "      <td>wide</td>\n",
       "      <td>False</td>\n",
       "    </tr>\n",
       "    <tr>\n",
       "      <th>4</th>\n",
       "      <td>60</td>\n",
       "      <td>8</td>\n",
       "      <td>blue</td>\n",
       "      <td>100</td>\n",
       "      <td>0</td>\n",
       "      <td>['j']</td>\n",
       "      <td>1.825292</td>\n",
       "      <td>wide</td>\n",
       "      <td>False</td>\n",
       "    </tr>\n",
       "  </tbody>\n",
       "</table>\n",
       "</div>"
      ],
      "text/plain": [
       "   Risk_per  Money Color  Amb  RiskisLeft response        RT  dist  \\\n",
       "0        20      8  blue  100           0    ['f']  2.662200  wide   \n",
       "1        30      8  blue  100           1    ['j']  2.286832  wide   \n",
       "2        40      8  blue  100           0    ['f']  1.986790  wide   \n",
       "3        50      8  blue  100           1    ['j']  3.408539  wide   \n",
       "4        60      8  blue  100           0    ['j']  1.825292  wide   \n",
       "\n",
       "   choose_risk  \n",
       "0        False  \n",
       "1        False  \n",
       "2        False  \n",
       "3        False  \n",
       "4        False  "
      ]
     },
     "metadata": {},
     "output_type": "display_data"
    }
   ],
   "source": [
    "df_a=pd.read_csv(events[0])\n",
    "df_r=pd.read_csv(events[1])\n",
    "df_r['choose_lot']=np.logical_and(df_r.LotisLeft==1,df_r.response==\"['f']\")\n",
    "display(df_r.head())\n",
    "df_a['choose_risk']=np.logical_and(df_a.RiskisLeft==1,df_a.response==\"['f']\")\n",
    "\n",
    "display(df_a.head())"
   ]
  },
  {
   "cell_type": "code",
   "execution_count": 47,
   "metadata": {},
   "outputs": [
    {
     "name": "stderr",
     "output_type": "stream",
     "text": [
      "/home/jeff/anaconda3/lib/python3.6/site-packages/statsmodels/genmod/families/family.py:880: RuntimeWarning: invalid value encountered in true_divide\n",
      "  n_endog_mu = self._clean((1. - endog) / (1. - mu))\n"
     ]
    },
    {
     "data": {
      "text/plain": [
       "[<matplotlib.lines.Line2D at 0x7f535dba1e10>]"
      ]
     },
     "execution_count": 47,
     "metadata": {},
     "output_type": "execute_result"
    },
    {
     "data": {
      "image/png": "[encoded data removed]",
      "text/plain": [
       "<Figure size 360x360 with 1 Axes>"
      ]
     },
     "metadata": {},
     "output_type": "display_data"
    }
   ],
   "source": [
    "import matplotlib.pyplot as plt\n",
    "plotData=df_a[df_a['Amb']==100]\n",
    "sns.lmplot(x='Risk_per',y='choose_risk', data=plotData,logistic=True,x_jitter=0.5,y_jitter=0.3)\n",
    "plt.plot([0,80], [0.5,0.5], linewidth=2,linestyle='dashed')"
   ]
  },
  {
   "cell_type": "code",
   "execution_count": 45,
   "metadata": {},
   "outputs": [
    {
     "name": "stderr",
     "output_type": "stream",
     "text": [
      "/home/jeff/anaconda3/lib/python3.6/site-packages/statsmodels/genmod/families/family.py:880: RuntimeWarning: invalid value encountered in true_divide\n",
      "  n_endog_mu = self._clean((1. - endog) / (1. - mu))\n"
     ]
    },
    {
     "data": {
      "text/plain": [
       "[<matplotlib.lines.Line2D at 0x7f53627800b8>]"
      ]
     },
     "execution_count": 45,
     "metadata": {},
     "output_type": "execute_result"
    },
    {
     "data": {
      "image/png": "[encoded data removed]",
      "text/plain": [
       "<Figure size 432x360 with 1 Axes>"
      ]
     },
     "metadata": {},
     "output_type": "display_data"
    }
   ],
   "source": [
    "import matplotlib.pyplot as plt\n",
    "plotData=df_r\n",
    "sns.lmplot(x='Lot_per',y='choose_lot', data=plotData ,hue='dist',logistic=True,x_jitter=0.5,y_jitter=0.3)\n",
    "plt.plot([0,80], [0.5,0.5], linewidth=2,linestyle='dashed')"
   ]
  },
  {
   "cell_type": "code",
   "execution_count": null,
   "metadata": {},
   "outputs": [],
   "source": []
  }
 ],
 "metadata": {
  "kernelspec": {
   "display_name": "Python 3",
   "language": "python",
   "name": "python3"
  },
  "language_info": {
   "codemirror_mode": {
    "name": "ipython",
    "version": 3
   },
   "file_extension": ".py",
   "mimetype": "text/x-python",
   "name": "python",
   "nbconvert_exporter": "python",
   "pygments_lexer": "ipython3",
   "version": "3.6.9"
  }
 },
 "nbformat": 4,
 "nbformat_minor": 2
}
