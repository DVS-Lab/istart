{
 "cells": [
  {
   "cell_type": "code",
   "execution_count": 1,
   "metadata": {},
   "outputs": [
    {
     "name": "stdout",
     "output_type": "stream",
     "text": [
      "['.ipynb_checkpoints', 'Python_convertUG_Bids.ipynb', 'sub-999_task-ultimatum_run-0_raw.csv']\n"
     ]
    }
   ],
   "source": [
    "import os  # import os is an important library\n",
    "\n",
    "datadir ='.' # Our path is HERE.\n",
    "\n",
    "filelist = os.listdir(datadir) # os.listdir is a function that lists everything in directory. Like ls.\n",
    "\n",
    "print(filelist)"
   ]
  },
  {
   "cell_type": "code",
   "execution_count": 2,
   "metadata": {},
   "outputs": [
    {
     "data": {
      "text/html": [
       "<div>\n",
       "<style scoped>\n",
       "    .dataframe tbody tr th:only-of-type {\n",
       "        vertical-align: middle;\n",
       "    }\n",
       "\n",
       "    .dataframe tbody tr th {\n",
       "        vertical-align: top;\n",
       "    }\n",
       "\n",
       "    .dataframe thead th {\n",
       "        text-align: right;\n",
       "    }\n",
       "</style>\n",
       "<table border=\"1\" class=\"dataframe\">\n",
       "  <thead>\n",
       "    <tr style=\"text-align: right;\">\n",
       "      <th></th>\n",
       "      <th>Trial</th>\n",
       "      <th>Onset</th>\n",
       "      <th>Endowment</th>\n",
       "      <th>Response Time</th>\n",
       "      <th>Duration</th>\n",
       "      <th>L_Option</th>\n",
       "      <th>R_Option</th>\n",
       "      <th>Response</th>\n",
       "    </tr>\n",
       "  </thead>\n",
       "  <tbody>\n",
       "    <tr>\n",
       "      <th>0</th>\n",
       "      <td>1</td>\n",
       "      <td>4.0068493</td>\n",
       "      <td>25</td>\n",
       "      <td>999</td>\n",
       "      <td>3.528454</td>\n",
       "      <td>3.75</td>\n",
       "      <td>6.25</td>\n",
       "      <td>999</td>\n",
       "    </tr>\n",
       "    <tr>\n",
       "      <th>1</th>\n",
       "      <td>2</td>\n",
       "      <td>17.542347</td>\n",
       "      <td>17</td>\n",
       "      <td>999</td>\n",
       "      <td>3.5261462</td>\n",
       "      <td>5.95</td>\n",
       "      <td>7.65</td>\n",
       "      <td>999</td>\n",
       "    </tr>\n",
       "    <tr>\n",
       "      <th>2</th>\n",
       "      <td>3</td>\n",
       "      <td>21.825508</td>\n",
       "      <td>15</td>\n",
       "      <td>999</td>\n",
       "      <td>3.5259182</td>\n",
       "      <td>2.25</td>\n",
       "      <td>6.75</td>\n",
       "      <td>999</td>\n",
       "    </tr>\n",
       "    <tr>\n",
       "      <th>3</th>\n",
       "      <td>4</td>\n",
       "      <td>33.360035</td>\n",
       "      <td>15</td>\n",
       "      <td>999</td>\n",
       "      <td>3.5223055</td>\n",
       "      <td>0.05</td>\n",
       "      <td>0</td>\n",
       "      <td>999</td>\n",
       "    </tr>\n",
       "    <tr>\n",
       "      <th>4</th>\n",
       "      <td>5</td>\n",
       "      <td>37.638615</td>\n",
       "      <td>23</td>\n",
       "      <td>1.027498</td>\n",
       "      <td>3.5173264</td>\n",
       "      <td>5.75</td>\n",
       "      <td>10.35</td>\n",
       "      <td>3</td>\n",
       "    </tr>\n",
       "  </tbody>\n",
       "</table>\n",
       "</div>"
      ],
      "text/plain": [
       "  Trial      Onset Endowment Response Time   Duration L_Option R_Option  \\\n",
       "0     1  4.0068493        25           999   3.528454     3.75     6.25   \n",
       "1     2  17.542347        17           999  3.5261462     5.95     7.65   \n",
       "2     3  21.825508        15           999  3.5259182     2.25     6.75   \n",
       "3     4  33.360035        15           999  3.5223055     0.05        0   \n",
       "4     5  37.638615        23      1.027498  3.5173264     5.75    10.35   \n",
       "\n",
       "  Response  \n",
       "0      999  \n",
       "1      999  \n",
       "2      999  \n",
       "3      999  \n",
       "4        3  "
      ]
     },
     "metadata": {},
     "output_type": "display_data"
    }
   ],
   "source": [
    "import pandas as pd # Data frame tool imported as nickname\n",
    "\n",
    "subj = 998\n",
    "r = 0\n",
    "\n",
    "Behavior = pd.read_csv('sub-999_task-ultimatum_run-0_raw.csv',sep = '\\t') # Reads dataframe CSV tool $ sep: tab separated\n",
    "\n",
    "Behavior = Behavior[['nTrial','decision_onset','Endowment','rt','trialDuration','L_Option','R_Option','resp']]\n",
    "\n",
    "Behavior.columns=['Trial','Onset','Endowment','Response Time','Duration','L_Option','R_Option','Response']\n",
    "\n",
    "display(Behavior.head())\n",
    "\n",
    "Behavior.to_csv('sub-%s_task-ultimatum_run-%s_events.tsv'%(subj,r+1),sep = '\\t',index = False) # Saves to tsv # %s - String, index shuts off the left indexing from zero."
   ]
  },
  {
   "cell_type": "code",
   "execution_count": null,
   "metadata": {},
   "outputs": [],
   "source": []
  },
  {
   "cell_type": "code",
   "execution_count": null,
   "metadata": {},
   "outputs": [],
   "source": []
  },
  {
   "cell_type": "code",
   "execution_count": null,
   "metadata": {},
   "outputs": [],
   "source": []
  },
  {
   "cell_type": "code",
   "execution_count": null,
   "metadata": {},
   "outputs": [],
   "source": []
  },
  {
   "cell_type": "code",
   "execution_count": null,
   "metadata": {},
   "outputs": [],
   "source": []
  },
  {
   "cell_type": "code",
   "execution_count": null,
   "metadata": {},
   "outputs": [],
   "source": []
  },
  {
   "cell_type": "code",
   "execution_count": null,
   "metadata": {},
   "outputs": [],
   "source": []
  }
 ],
 "metadata": {
  "kernelspec": {
   "display_name": "Python 3",
   "language": "python",
   "name": "python3"
  },
  "language_info": {
   "codemirror_mode": {
    "name": "ipython",
    "version": 3
   },
   "file_extension": ".py",
   "mimetype": "text/x-python",
   "name": "python",
   "nbconvert_exporter": "python",
   "pygments_lexer": "ipython3",
   "version": "3.7.3"
  }
 },
 "nbformat": 4,
 "nbformat_minor": 2
}
