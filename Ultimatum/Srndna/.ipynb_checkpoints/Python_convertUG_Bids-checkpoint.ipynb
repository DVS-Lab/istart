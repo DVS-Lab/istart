{
 "cells": [
  {
   "cell_type": "code",
   "execution_count": 6,
   "metadata": {},
   "outputs": [
    {
     "name": "stdout",
     "output_type": "stream",
     "text": [
      "['.ipynb_checkpoints', 'bids', 'convertUG_BIDS.asv', 'convertUG_BIDS.m', 'convertUG_BIDS_DS.asv', 'convertUG_BIDS_DS.m', 'ExportThis.tsv', 'ExportThis.txt', 'psychopy', 'Python_convertUG_Bids.ipynb', 'sub-104_task-ultimatum_run-01_events.tsv', 'sub-104_task-ultimatum_run-02_events.tsv', 'sub-104_task-ultimatum_run-0_raw.csv', 'sub-104_task-ultimatum_run-1_raw.csv', 'sub-998_task-ultimatum_run-0_raw.csv', 'sub-998_task-ultimatum_run-1_events.tsv', 'sub-998_task-ultimatum_run-1_raw.csv']\n"
     ]
    }
   ],
   "source": [
    "import os  # import os is an important library\n",
    "\n",
    "datadir ='.' # Our path is HERE.\n",
    "\n",
    "filelist = os.listdir(datadir) # os.listdir is a function that lists everything in directory. Like ls.\n",
    "\n",
    "print(filelist)"
   ]
  },
  {
   "cell_type": "code",
   "execution_count": null,
   "metadata": {},
   "outputs": [],
   "source": [
    "import pandas as pd # Data frame tool imported as nickname\n",
    "\n",
    "subj = 998\n",
    "r = 0\n",
    "\n",
    "Behavior = pd.read_csv('sub-998_task-ultimatum_run-0_raw.csv',sep = '\\t') # Reads dataframe CSV tool $ sep: tab separated\n",
    "\n",
    "Behavior = Behavior[['nTrial','decision_onset','Endowment','rt','trialDuration','L_Option','R_Option','resp']]\n",
    "\n",
    "Behavior.columns=['Trial','Onset','Endowment','Response Time','Duration','L_Option','R_Option','Response']\n",
    "\n",
    "display(Behavior.head())\n",
    "\n",
    "Behavior.to_csv('sub-%s_task-ultimatum_run-%s_events.tsv'%(subj,r+1),sep = '\\t',index = False) # Saves to tsv # %s - String, index shuts off the left indexing from zero."
   ]
  },
  {
   "cell_type": "code",
   "execution_count": null,
   "metadata": {},
   "outputs": [],
   "source": []
  },
  {
   "cell_type": "code",
   "execution_count": null,
   "metadata": {},
   "outputs": [],
   "source": []
  },
  {
   "cell_type": "code",
   "execution_count": null,
   "metadata": {},
   "outputs": [],
   "source": []
  },
  {
   "cell_type": "code",
   "execution_count": null,
   "metadata": {},
   "outputs": [],
   "source": []
  },
  {
   "cell_type": "code",
   "execution_count": null,
   "metadata": {},
   "outputs": [],
   "source": []
  },
  {
   "cell_type": "code",
   "execution_count": null,
   "metadata": {},
   "outputs": [],
   "source": []
  },
  {
   "cell_type": "code",
   "execution_count": null,
   "metadata": {},
   "outputs": [],
   "source": []
  }
 ],
 "metadata": {
  "kernelspec": {
   "display_name": "Python 3",
   "language": "python",
   "name": "python3"
  },
  "language_info": {
   "codemirror_mode": {
    "name": "ipython",
    "version": 3
   },
   "file_extension": ".py",
   "mimetype": "text/x-python",
   "name": "python",
   "nbconvert_exporter": "python",
   "pygments_lexer": "ipython3",
   "version": "3.7.3"
  }
 },
 "nbformat": 4,
 "nbformat_minor": 2
}
