{
 "cells": [
  {
   "cell_type": "code",
   "execution_count": 58,
   "id": "679f9067",
   "metadata": {},
   "outputs": [
    {
     "data": {
      "text/html": [
       "<div>\n",
       "<style scoped>\n",
       "    .dataframe tbody tr th:only-of-type {\n",
       "        vertical-align: middle;\n",
       "    }\n",
       "\n",
       "    .dataframe tbody tr th {\n",
       "        vertical-align: top;\n",
       "    }\n",
       "\n",
       "    .dataframe thead th {\n",
       "        text-align: right;\n",
       "    }\n",
       "</style>\n",
       "<table border=\"1\" class=\"dataframe\">\n",
       "  <thead>\n",
       "    <tr style=\"text-align: right;\">\n",
       "      <th></th>\n",
       "      <th>sub</th>\n",
       "      <th>gender</th>\n",
       "      <th>SPSRWD</th>\n",
       "      <th>BISBAS_BAS</th>\n",
       "      <th>PC1</th>\n",
       "      <th>Win-Friend</th>\n",
       "      <th>Win-Stranger</th>\n",
       "      <th>Win-Comp</th>\n",
       "      <th>Lose-Friend</th>\n",
       "      <th>Lose-Stranger</th>\n",
       "      <th>Lose-Comp</th>\n",
       "      <th>screen_age</th>\n",
       "      <th>closeness_rating</th>\n",
       "    </tr>\n",
       "  </thead>\n",
       "  <tbody>\n",
       "    <tr>\n",
       "      <th>0</th>\n",
       "      <td>1001</td>\n",
       "      <td>1</td>\n",
       "      <td>7.0</td>\n",
       "      <td>44.0</td>\n",
       "      <td>0.748619</td>\n",
       "      <td>5</td>\n",
       "      <td>-2</td>\n",
       "      <td>5</td>\n",
       "      <td>5</td>\n",
       "      <td>0</td>\n",
       "      <td>4</td>\n",
       "      <td>NaN</td>\n",
       "      <td>5.0</td>\n",
       "    </tr>\n",
       "    <tr>\n",
       "      <th>1</th>\n",
       "      <td>1002</td>\n",
       "      <td>2</td>\n",
       "      <td>15.0</td>\n",
       "      <td>35.0</td>\n",
       "      <td>-1.338732</td>\n",
       "      <td>4</td>\n",
       "      <td>2</td>\n",
       "      <td>0</td>\n",
       "      <td>-3</td>\n",
       "      <td>-1</td>\n",
       "      <td>0</td>\n",
       "      <td>NaN</td>\n",
       "      <td>5.0</td>\n",
       "    </tr>\n",
       "    <tr>\n",
       "      <th>2</th>\n",
       "      <td>1006</td>\n",
       "      <td>2</td>\n",
       "      <td>12.0</td>\n",
       "      <td>37.0</td>\n",
       "      <td>-1.633791</td>\n",
       "      <td>3</td>\n",
       "      <td>2</td>\n",
       "      <td>5</td>\n",
       "      <td>-4</td>\n",
       "      <td>-1</td>\n",
       "      <td>-2</td>\n",
       "      <td>NaN</td>\n",
       "      <td>5.0</td>\n",
       "    </tr>\n",
       "    <tr>\n",
       "      <th>3</th>\n",
       "      <td>1006</td>\n",
       "      <td>2</td>\n",
       "      <td>12.0</td>\n",
       "      <td>37.0</td>\n",
       "      <td>-1.633791</td>\n",
       "      <td>3</td>\n",
       "      <td>2</td>\n",
       "      <td>5</td>\n",
       "      <td>-4</td>\n",
       "      <td>-1</td>\n",
       "      <td>-2</td>\n",
       "      <td>NaN</td>\n",
       "      <td>5.0</td>\n",
       "    </tr>\n",
       "    <tr>\n",
       "      <th>4</th>\n",
       "      <td>1007</td>\n",
       "      <td>1</td>\n",
       "      <td>14.0</td>\n",
       "      <td>37.0</td>\n",
       "      <td>-0.391931</td>\n",
       "      <td>4</td>\n",
       "      <td>4</td>\n",
       "      <td>3</td>\n",
       "      <td>0</td>\n",
       "      <td>0</td>\n",
       "      <td>0</td>\n",
       "      <td>21.235207</td>\n",
       "      <td>5.0</td>\n",
       "    </tr>\n",
       "  </tbody>\n",
       "</table>\n",
       "</div>"
      ],
      "text/plain": [
       "    sub  gender  SPSRWD  BISBAS_BAS       PC1  Win-Friend  Win-Stranger  \\\n",
       "0  1001       1     7.0        44.0  0.748619           5            -2   \n",
       "1  1002       2    15.0        35.0 -1.338732           4             2   \n",
       "2  1006       2    12.0        37.0 -1.633791           3             2   \n",
       "3  1006       2    12.0        37.0 -1.633791           3             2   \n",
       "4  1007       1    14.0        37.0 -0.391931           4             4   \n",
       "\n",
       "   Win-Comp  Lose-Friend  Lose-Stranger  Lose-Comp  screen_age  \\\n",
       "0         5            5              0          4         NaN   \n",
       "1         0           -3             -1          0         NaN   \n",
       "2         5           -4             -1         -2         NaN   \n",
       "3         5           -4             -1         -2         NaN   \n",
       "4         3            0              0          0   21.235207   \n",
       "\n",
       "   closeness_rating  \n",
       "0               5.0  \n",
       "1               5.0  \n",
       "2               5.0  \n",
       "3               5.0  \n",
       "4               5.0  "
      ]
     },
     "execution_count": 58,
     "metadata": {},
     "output_type": "execute_result"
    }
   ],
   "source": [
    "import os\n",
    "import numpy as np\n",
    "import pandas as pd\n",
    "import re\n",
    "import scipy.stats as stats\n",
    "import matplotlib as plt\n",
    "import seaborn as sms\n",
    "\n",
    "os.chdir('.')\n",
    "###os.listdir()\n",
    "ASRD = pd.read_csv('AllSharedRewardData.csv')\n",
    "ASRD.head()"
   ]
  },
  {
   "cell_type": "code",
   "execution_count": 52,
   "id": "b17aff1b",
   "metadata": {},
   "outputs": [
    {
     "data": {
      "text/html": [
       "<div>\n",
       "<style scoped>\n",
       "    .dataframe tbody tr th:only-of-type {\n",
       "        vertical-align: middle;\n",
       "    }\n",
       "\n",
       "    .dataframe tbody tr th {\n",
       "        vertical-align: top;\n",
       "    }\n",
       "\n",
       "    .dataframe thead th {\n",
       "        text-align: right;\n",
       "    }\n",
       "</style>\n",
       "<table border=\"1\" class=\"dataframe\">\n",
       "  <thead>\n",
       "    <tr style=\"text-align: right;\">\n",
       "      <th></th>\n",
       "      <th>sub</th>\n",
       "    </tr>\n",
       "    <tr>\n",
       "      <th>gender</th>\n",
       "      <th></th>\n",
       "    </tr>\n",
       "  </thead>\n",
       "  <tbody>\n",
       "    <tr>\n",
       "      <th>1</th>\n",
       "      <td>32</td>\n",
       "    </tr>\n",
       "    <tr>\n",
       "      <th>2</th>\n",
       "      <td>11</td>\n",
       "    </tr>\n",
       "  </tbody>\n",
       "</table>\n",
       "</div>"
      ],
      "text/plain": [
       "        sub\n",
       "gender     \n",
       "1        32\n",
       "2        11"
      ]
     },
     "metadata": {},
     "output_type": "display_data"
    },
    {
     "data": {
      "text/html": [
       "<div>\n",
       "<style scoped>\n",
       "    .dataframe tbody tr th:only-of-type {\n",
       "        vertical-align: middle;\n",
       "    }\n",
       "\n",
       "    .dataframe tbody tr th {\n",
       "        vertical-align: top;\n",
       "    }\n",
       "\n",
       "    .dataframe thead th {\n",
       "        text-align: right;\n",
       "    }\n",
       "</style>\n",
       "<table border=\"1\" class=\"dataframe\">\n",
       "  <thead>\n",
       "    <tr style=\"text-align: right;\">\n",
       "      <th></th>\n",
       "      <th>PC1</th>\n",
       "      <th>closeness_rating</th>\n",
       "    </tr>\n",
       "    <tr>\n",
       "      <th>gender</th>\n",
       "      <th></th>\n",
       "      <th></th>\n",
       "    </tr>\n",
       "  </thead>\n",
       "  <tbody>\n",
       "    <tr>\n",
       "      <th>1</th>\n",
       "      <td>-0.006190</td>\n",
       "      <td>4.562500</td>\n",
       "    </tr>\n",
       "    <tr>\n",
       "      <th>2</th>\n",
       "      <td>0.587767</td>\n",
       "      <td>5.090909</td>\n",
       "    </tr>\n",
       "  </tbody>\n",
       "</table>\n",
       "</div>"
      ],
      "text/plain": [
       "             PC1  closeness_rating\n",
       "gender                            \n",
       "1      -0.006190          4.562500\n",
       "2       0.587767          5.090909"
      ]
     },
     "metadata": {},
     "output_type": "display_data"
    }
   ],
   "source": [
    "female = ASRD.query('gender == \"1\"')['PC1']\n",
    "male = ASRD.query('gender == \"2\"')['PC1']\n",
    "#ASRD['closeness_rating'].max()\n",
    "display(ASRD[['sub','gender']].groupby('gender').count(),\n",
    "       ASRD[['PC1','closeness_rating','gender']].groupby('gender').mean())"
   ]
  },
  {
   "cell_type": "code",
   "execution_count": 56,
   "id": "01a618e2",
   "metadata": {},
   "outputs": [
    {
     "ename": "SyntaxError",
     "evalue": "positional argument follows keyword argument (<ipython-input-56-debd74e5d269>, line 1)",
     "output_type": "error",
     "traceback": [
      "\u001b[1;36m  File \u001b[1;32m\"<ipython-input-56-debd74e5d269>\"\u001b[1;36m, line \u001b[1;32m1\u001b[0m\n\u001b[1;33m    ASRD.hist(column = 'PC1','gender').groupby('gender')\u001b[0m\n\u001b[1;37m                             ^\u001b[0m\n\u001b[1;31mSyntaxError\u001b[0m\u001b[1;31m:\u001b[0m positional argument follows keyword argument\n"
     ]
    }
   ],
   "source": [
    "ASRD.hist(column = 'PC1')"
   ]
  },
  {
   "cell_type": "code",
   "execution_count": 71,
   "id": "d5693e49",
   "metadata": {},
   "outputs": [
    {
     "data": {
      "text/plain": [
       "(0.27154207412315334, 0.4192493734716171)"
      ]
     },
     "metadata": {},
     "output_type": "display_data"
    },
    {
     "data": {
      "text/plain": [
       "(-0.1443111488076083, 0.43069321987691367)"
      ]
     },
     "metadata": {},
     "output_type": "display_data"
    }
   ],
   "source": [
    "PC1 = ASRD[ASRD['gender']==2]['PC1']\n",
    "IOS = ASRD[ASRD['gender']==2]['closeness_rating']\n",
    "analysis = stats.pearsonr(PC1, IOS)\n",
    "display(analysis)\n",
    "\n",
    "PC1 = ASRD[ASRD['gender']==1]['PC1']\n",
    "IOS = ASRD[ASRD['gender']==1]['closeness_rating']\n",
    "analysis = stats.pearsonr(PC1, IOS)\n",
    "display(analysis)"
   ]
  },
  {
   "cell_type": "code",
   "execution_count": 63,
   "id": "36b6fb9b",
   "metadata": {},
   "outputs": [
    {
     "data": {
      "image/png": "[encoded data removed]",
      "text/plain": [
       "<Figure size 403.5x360 with 1 Axes>"
      ]
     },
     "metadata": {
      "needs_background": "light"
     },
     "output_type": "display_data"
    }
   ],
   "source": [
    "g=sms.lmplot(x='PC1',y='closeness_rating', data=ASRD, hue='gender')"
   ]
  },
  {
   "cell_type": "code",
   "execution_count": null,
   "id": "ed57c753",
   "metadata": {},
   "outputs": [],
   "source": []
  }
 ],
 "metadata": {
  "kernelspec": {
   "display_name": "Python 3",
   "language": "python",
   "name": "python3"
  },
  "language_info": {
   "codemirror_mode": {
    "name": "ipython",
    "version": 3
   },
   "file_extension": ".py",
   "mimetype": "text/x-python",
   "name": "python",
   "nbconvert_exporter": "python",
   "pygments_lexer": "ipython3",
   "version": "3.8.8"
  }
 },
 "nbformat": 4,
 "nbformat_minor": 5
}
