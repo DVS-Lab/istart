{
 "cells": [
  {
   "cell_type": "code",
   "execution_count": 1,
   "metadata": {},
   "outputs": [],
   "source": [
    "import pandas as pd\n",
    "import scipy.stats as stats\n",
    "import numpy as np \n",
    "import matplotlib.pyplot as plt\n",
    "import seaborn as sms\n",
    "import os\n",
    "import inspect"
   ]
  },
  {
   "cell_type": "code",
   "execution_count": 2,
   "metadata": {},
   "outputs": [
    {
     "data": {
      "text/plain": [
       "['.ipynb_checkpoints',\n",
       " '7U7D.csv',\n",
       " 'AADIS.csv',\n",
       " 'Aggregation-checkpoint.ipynb',\n",
       " 'AllSharedRewardData.csv',\n",
       " 'AUDIT, DUDIT, AADIS, 7U7D, rescoring and aggregation.ipynb',\n",
       " 'FullSharedRewardData.csv',\n",
       " 'Helping Ori & Amanda.ipynb',\n",
       " 'ISTART - RECOVERED DATA - reward sensitivity screeners.csv',\n",
       " 'ISTART-Reward-Quintiles-Combined.csv',\n",
       " 'ISTART2021-Demographics_DATA_2021-10-29_1323.csv',\n",
       " 'ISTART2021-QuestionnaireScoresU_DATA_2021-10-29_1336.csv',\n",
       " 'ISTART2021-RewardSensitivityQui_DATA_2021-10-29_1337.csv',\n",
       " 'ISTART2021-RSQ.csv',\n",
       " 'joinedfile.csv',\n",
       " 'Making_RS_PCA.ipynb',\n",
       " 'QualtricsData_011022.xlsx',\n",
       " 'ReadMe_Behavioral_Analysis.txt',\n",
       " 'Reward_Sensitivity.csv',\n",
       " 'Shared Reward Behavioral Analysis.ipynb',\n",
       " 'Shared Reward Data Aggregation.ipynb',\n",
       " 'SR_PartnerRatings.csv',\n",
       " 'SR_PartnerRatings_PS.csv',\n",
       " 'SR_REDCap_data.csv',\n",
       " 'Substance_and_Mood_data.csv',\n",
       " 'Substance_and_Mood_data_SCORED.csv',\n",
       " 'ugdg_tsr_means.xlsx',\n",
       " 'Untitled.ipynb']"
      ]
     },
     "execution_count": 2,
     "metadata": {},
     "output_type": "execute_result"
    }
   ],
   "source": [
    "os.listdir('.')"
   ]
  },
  {
   "cell_type": "code",
   "execution_count": 3,
   "metadata": {},
   "outputs": [
    {
     "name": "stdout",
     "output_type": "stream",
     "text": [
      "<class 'pandas.core.frame.DataFrame'>\n",
      "<class 'function'>\n"
     ]
    }
   ],
   "source": [
    "fname='Reward_Sensitivity.csv'\n",
    "df=pd.read_csv(fname)\n",
    "print(type(df))\n",
    "print(type(pd.read_csv))\n",
    "\n"
   ]
  },
  {
   "cell_type": "code",
   "execution_count": 4,
   "metadata": {},
   "outputs": [
    {
     "data": {
      "text/html": [
       "<div>\n",
       "<style scoped>\n",
       "    .dataframe tbody tr th:only-of-type {\n",
       "        vertical-align: middle;\n",
       "    }\n",
       "\n",
       "    .dataframe tbody tr th {\n",
       "        vertical-align: top;\n",
       "    }\n",
       "\n",
       "    .dataframe thead th {\n",
       "        text-align: right;\n",
       "    }\n",
       "</style>\n",
       "<table border=\"1\" class=\"dataframe\">\n",
       "  <thead>\n",
       "    <tr style=\"text-align: right;\">\n",
       "      <th></th>\n",
       "      <th>Unnamed: 0</th>\n",
       "      <th>RealID</th>\n",
       "      <th>gender</th>\n",
       "      <th>SPSRWD</th>\n",
       "      <th>BISBAS_BAS</th>\n",
       "      <th>PC1</th>\n",
       "    </tr>\n",
       "  </thead>\n",
       "  <tbody>\n",
       "    <tr>\n",
       "      <th>Unnamed: 0</th>\n",
       "      <td>1.000000</td>\n",
       "      <td>0.895969</td>\n",
       "      <td>-0.011629</td>\n",
       "      <td>-0.045554</td>\n",
       "      <td>0.010903</td>\n",
       "      <td>-0.013265</td>\n",
       "    </tr>\n",
       "    <tr>\n",
       "      <th>RealID</th>\n",
       "      <td>0.895969</td>\n",
       "      <td>1.000000</td>\n",
       "      <td>0.034682</td>\n",
       "      <td>-0.019949</td>\n",
       "      <td>0.055356</td>\n",
       "      <td>0.032037</td>\n",
       "    </tr>\n",
       "    <tr>\n",
       "      <th>gender</th>\n",
       "      <td>-0.011629</td>\n",
       "      <td>0.034682</td>\n",
       "      <td>1.000000</td>\n",
       "      <td>0.199880</td>\n",
       "      <td>-0.023857</td>\n",
       "      <td>0.072105</td>\n",
       "    </tr>\n",
       "    <tr>\n",
       "      <th>SPSRWD</th>\n",
       "      <td>-0.045554</td>\n",
       "      <td>-0.019949</td>\n",
       "      <td>0.199880</td>\n",
       "      <td>1.000000</td>\n",
       "      <td>0.622707</td>\n",
       "      <td>0.857711</td>\n",
       "    </tr>\n",
       "    <tr>\n",
       "      <th>BISBAS_BAS</th>\n",
       "      <td>0.010903</td>\n",
       "      <td>0.055356</td>\n",
       "      <td>-0.023857</td>\n",
       "      <td>0.622707</td>\n",
       "      <td>1.000000</td>\n",
       "      <td>0.936422</td>\n",
       "    </tr>\n",
       "    <tr>\n",
       "      <th>PC1</th>\n",
       "      <td>-0.013265</td>\n",
       "      <td>0.032037</td>\n",
       "      <td>0.072105</td>\n",
       "      <td>0.857711</td>\n",
       "      <td>0.936422</td>\n",
       "      <td>1.000000</td>\n",
       "    </tr>\n",
       "  </tbody>\n",
       "</table>\n",
       "</div>"
      ],
      "text/plain": [
       "            Unnamed: 0    RealID    gender    SPSRWD  BISBAS_BAS       PC1\n",
       "Unnamed: 0    1.000000  0.895969 -0.011629 -0.045554    0.010903 -0.013265\n",
       "RealID        0.895969  1.000000  0.034682 -0.019949    0.055356  0.032037\n",
       "gender       -0.011629  0.034682  1.000000  0.199880   -0.023857  0.072105\n",
       "SPSRWD       -0.045554 -0.019949  0.199880  1.000000    0.622707  0.857711\n",
       "BISBAS_BAS    0.010903  0.055356 -0.023857  0.622707    1.000000  0.936422\n",
       "PC1          -0.013265  0.032037  0.072105  0.857711    0.936422  1.000000"
      ]
     },
     "metadata": {},
     "output_type": "display_data"
    },
    {
     "data": {
      "text/plain": [
       "<AxesSubplot:>"
      ]
     },
     "execution_count": 4,
     "metadata": {},
     "output_type": "execute_result"
    },
    {
     "data": {
      "image/png": "[encoded data removed]",
      "text/plain": [
       "<Figure size 864x576 with 2 Axes>"
      ]
     },
     "metadata": {
      "needs_background": "light"
     },
     "output_type": "display_data"
    }
   ],
   "source": [
    "cormat=df.corr()\n",
    "display(cormat)\n",
    "fig = plt.figure(figsize=(12, 8))\n",
    "sms.heatmap(cormat,cmap='vlag',vmin=-1)\n"
   ]
  },
  {
   "cell_type": "code",
   "execution_count": 5,
   "metadata": {},
   "outputs": [
    {
     "name": "stdout",
     "output_type": "stream",
     "text": [
      "Correlation between reward sensitivity is \n",
      " R^2: 0.38776420899824054 p: 4.389185864714769e-11\n"
     ]
    },
    {
     "data": {
      "image/png": "[encoded data removed]",
      "text/plain": [
       "<Figure size 360x360 with 1 Axes>"
      ]
     },
     "metadata": {
      "needs_background": "light"
     },
     "output_type": "display_data"
    },
    {
     "name": "stdout",
     "output_type": "stream",
     "text": [
      "<class 'seaborn.axisgrid.FacetGrid'>\n"
     ]
    }
   ],
   "source": [
    "df=df[['RealID','gender','SPSRWD','BISBAS_BAS']]\n",
    "r,p=stats.pearsonr(df['SPSRWD'],df['BISBAS_BAS'])\n",
    "print(\"Correlation between reward sensitivity is \\n R^2: %s p: %s\"%(r**2,p))\n",
    "g=sms.lmplot(x='SPSRWD',y='BISBAS_BAS',data=df)\n",
    "plt.show()\n",
    "print(type(g))\n"
   ]
  },
  {
   "cell_type": "code",
   "execution_count": 6,
   "metadata": {},
   "outputs": [
    {
     "name": "stdout",
     "output_type": "stream",
     "text": [
      "[[  0.68841083]\n",
      " [ -1.41780736]\n",
      " [  0.85358149]\n",
      " [  1.10192185]\n",
      " [  1.10192185]\n",
      " [  0.19289882]\n",
      " [ -1.70714821]\n",
      " [ -1.70714821]\n",
      " [ -0.46778384]\n",
      " [ -2.69817221]\n",
      " [  0.64741034]\n",
      " [ -2.32683039]\n",
      " [  1.10192185]\n",
      " [ -9.18433487]\n",
      " [  3.91099191]\n",
      " [ -1.54197754]\n",
      " [ -5.13590045]\n",
      " [  2.50645688]\n",
      " [ -3.73136542]\n",
      " [  9.52913203]\n",
      " [  1.72160403]\n",
      " [  6.72006197]\n",
      " [ -2.32683039]\n",
      " [ 11.39149789]\n",
      " [ -0.30261318]\n",
      " [ 10.80949688]\n",
      " [ -4.51621827]\n",
      " [  1.8867747 ]\n",
      " [ -3.89653609]\n",
      " [  8.78527967]\n",
      " [ -4.3510476 ]\n",
      " [  2.67162755]\n",
      " [  1.10192185]\n",
      " [  1.26709252]\n",
      " [ -2.16165972]\n",
      " [-13.66951552]\n",
      " [  3.12613906]\n",
      " [ -1.54197754]\n",
      " [  3.58065058]\n",
      " [ -8.06914069]\n",
      " [ -5.75558263]\n",
      " [  1.26709252]\n",
      " [ -3.73136542]\n",
      " [ -7.65562966]\n",
      " [  3.91099191]\n",
      " [ -0.92229536]\n",
      " [ -3.56619475]\n",
      " [  3.91099191]\n",
      " [ -6.70560615]\n",
      " [ -3.40102408]\n",
      " [ 11.09883773]\n",
      " [ -1.08746603]\n",
      " [ -0.92229536]\n",
      " [  1.43226319]\n",
      " [  3.12613906]\n",
      " [  7.50491482]\n",
      " [ -1.08746603]\n",
      " [  8.57910852]\n",
      " [ -3.2768539 ]\n",
      " [ -3.11168324]\n",
      " [ -2.32683039]\n",
      " [ -1.08746603]\n",
      " [  1.43226319]\n",
      " [  9.73530319]\n",
      " [  4.69584476]\n",
      " [ -9.96918772]\n",
      " [ 14.23824913]\n",
      " [ -5.59041196]\n",
      " [ -3.56619475]\n",
      " [ -7.49045899]\n",
      " [  4.24133325]\n",
      " [ -6.54043548]\n",
      " [ -4.75518815]\n",
      " [ -2.7813419 ]\n",
      " [  0.81258101]\n",
      " [ 13.28822561]\n",
      " [  5.77003846]\n",
      " [ -1.70714821]\n",
      " [  4.24133325]\n",
      " [ -3.73136542]\n",
      " [  0.64741034]\n",
      " [ -5.75558263]\n",
      " [  1.10192185]\n",
      " [  6.59589179]\n",
      " [ -7.32528833]\n",
      " [ -2.49200106]\n",
      " [  2.67162755]\n",
      " [ -5.59041196]\n",
      " [ -1.08746603]\n",
      " [  0.48223967]\n",
      " [ -1.70714821]]\n"
     ]
    },
    {
     "data": {
      "text/plain": [
       "0     0.688411\n",
       "1    -1.417807\n",
       "2     0.853581\n",
       "3     1.101922\n",
       "4     1.101922\n",
       "        ...   \n",
       "86    2.671628\n",
       "87   -5.590412\n",
       "88   -1.087466\n",
       "89    0.482240\n",
       "90   -1.707148\n",
       "Name: PC1, Length: 91, dtype: float64"
      ]
     },
     "metadata": {},
     "output_type": "display_data"
    }
   ],
   "source": [
    "from sklearn.decomposition import PCA\n",
    "pca=PCA(n_components=1)\n",
    "\n",
    "features=['SPSRWD','BISBAS_BAS']\n",
    "X = df.loc[:, features].values\n",
    "PC1=pca.fit_transform(X)\n",
    "print(PC1)\n",
    "\n",
    "df['PC1']=PC1\n",
    "display(df['PC1'])\n",
    "df.to_csv(fname,index='False')"
   ]
  },
  {
   "cell_type": "code",
   "execution_count": 7,
   "metadata": {},
   "outputs": [
    {
     "data": {
      "image/png": "[encoded data removed]",
      "text/plain": [
       "<Figure size 432x288 with 1 Axes>"
      ]
     },
     "metadata": {
      "needs_background": "light"
     },
     "output_type": "display_data"
    }
   ],
   "source": [
    "plt.scatter(X[:, 0], X[:, 1], alpha=0.3, label=\"samples\")\n",
    "for i, (comp, var) in enumerate(zip(pca.components_, pca.explained_variance_)):\n",
    "    comp = comp * var  # scale component by its variance explanation power\n",
    "    plt.plot(\n",
    "        [0, comp[0]],\n",
    "        [0, comp[1]],\n",
    "        label=f\"Component {i}\",\n",
    "        linewidth=5,\n",
    "        color=f\"C{i + 2}\",\n",
    "    )\n",
    "plt.gca().set(\n",
    "    title=\"2-dimensional dataset with principal components\",\n",
    "    xlabel=\"first feature\",\n",
    "    ylabel=\"second feature\",\n",
    ")\n",
    "plt.legend()\n",
    "plt.show()"
   ]
  },
  {
   "cell_type": "code",
   "execution_count": null,
   "metadata": {},
   "outputs": [],
   "source": []
  }
 ],
 "metadata": {
  "kernelspec": {
   "display_name": "Python 3",
   "language": "python",
   "name": "python3"
  },
  "language_info": {
   "codemirror_mode": {
    "name": "ipython",
    "version": 3
   },
   "file_extension": ".py",
   "mimetype": "text/x-python",
   "name": "python",
   "nbconvert_exporter": "python",
   "pygments_lexer": "ipython3",
   "version": "3.8.8"
  }
 },
 "nbformat": 4,
 "nbformat_minor": 4
}
