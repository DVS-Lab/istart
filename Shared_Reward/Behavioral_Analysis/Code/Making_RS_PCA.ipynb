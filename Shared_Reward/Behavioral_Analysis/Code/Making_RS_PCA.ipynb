{
 "cells": [
  {
   "cell_type": "code",
   "execution_count": 2,
   "metadata": {},
   "outputs": [],
   "source": [
    "import pandas as pd\n",
    "import scipy.stats as stats\n",
    "import numpy as np \n",
    "import matplotlib.pyplot as plt\n",
    "import seaborn as sms\n",
    "import os\n",
    "import inspect"
   ]
  },
  {
   "cell_type": "code",
   "execution_count": 3,
   "metadata": {},
   "outputs": [],
   "source": []
  },
  {
   "cell_type": "code",
   "execution_count": 11,
   "metadata": {},
   "outputs": [
    {
     "name": "stdout",
     "output_type": "stream",
     "text": [
      "['participant_id', 'age_participant', 'age_friend', 'score_teps_ant', 'score_teps_con', 'aadis_q1', 'aadis_q2', 'aadis_q3', 'aadis_q4', 'aadis_q5', 'aadis_q6', 'aadis_q7', 'aadis_q8', 'aadis_q9', 'aadis_q10', 'aadis_q11', 'aadis_q12', 'aadis_q13', 'aadis_other', 'score_aadis', 'score_asrm', 'score_susd_mania', 'score_susd_depress', 'score_iri_perspectivetaking', 'score_iri_fantasy', 'score_iri_empathicconcern', 'score_iri_perso999ldistress', 'score_aq_socialskill', 'score_aq_attnswitch', 'score_aq_attndetail', 'score_aq_communication', 'score_aq_imagi999tion', 'score_aq_total', 'score_tei_wellbeing', 'score_tei_selfcontrol', 'score_tei_emotio999lity', 'score_tei_sociability', 'score_tei_globaltrait', 'score_pnr_total', 'score_pvss_total', 'score_pvss_food', 'score_pvss_phystouch', 'score_pvss_outdoors', 'score_pvss_posfeedback', 'score_pvss_hobbies', 'score_pvss_socinteract', 'score_pvss_goal', 'seq_adult_overtvictim', 'seq_adult_relatio999lvict', 'seq_adult_prosocialacts', 'ctqsf_a_emoabuse', 'ctqsf_a_emoabuse_cutoff', 'ctqsf_a_physabuse', 'ctqsf_a_physabuse_cutoff', 'ctqsf_a_sexabuse', 'ctqsf_a_sexabuse_cutoff', 'ctqsf_a_emoneglect', 'ctqsf_a_emoneglect_cutoff', 'ctqsf_a_physneglect', 'ctqsf_a_physneglect_cutoff', 'ctqsf_a_minimdenial_rev_ctqsf10', 'ctqsf_a_minimdenial_rev_ctqsf16', 'ctqsf_a_minimdenial_rev_ctqsf22', 'ctqsf_a_minimdenial', 'ctqsf_adult_total', 'ctqsf_adult_total_cutoff', 'quic_adult_scoring_parent_involve', 'quic_adult_scoring_parent_predictability', 'quic_adult_scoring_parent_enviornment', 'quic_adult_scoring_parent_physicalenviro', 'quic_adult_scoring_parent_safety', 'quic_adult_scoring_total', 'participant_id.1', 'score_asrm_appt2', 'score_bpaq_total', 'score_bpaq_physical', 'score_bpaq_verbal', 'score_bpaq_anger', 'score_bpaq_hostility', 'sd_debrief_deception_rating', 'ios_p', 'score_rse_total', 'score_teps_appt2_ant', 'score_teps_appt2_con', 'participant_id.2', 'aadis_f_q1', 'aadis_f_q2', 'aadis_f_q3', 'aadis_f_q4', 'aadis_f_q5', 'aadis_f_q6', 'aadis_f_q7', 'aadis_f_q8', 'aadis_f_q9', 'aadis_f_q10', 'aadis_f_q11', 'aadis_f_q12', 'aadis_f_q13', 'score_bdi', 'screen_gender', 'screen_race', 'screen_ethnicity_games', 'gender_f', 'race_f', 'ios_fu_score', 'ios_computer', 'ios_f', 'socialmediapurch_adult_1', 'socialmediapurch_adult_2', 'socialmediapurch_adult_3', 'socialmediapurch_adult_4', 'socialmediapurch_adult_5', 'socialmediapurch_adult_6', 'socialmediapurch_adult_7', 'socialmediapurch_adult_8', 'socialmediapurch_adult_9', 'socialmediapurch_adult_10', 'socialmediapurch_adult_11', 'socialmediapurch_adult_12', 'socialmediapurch_adult_13', 'socialmediapurch_adult_14', 'socialmediapurch_adult_15', 'socialmediapurch_adult_16', 'socialmediapurch_adult_17', 'socialmediapurch_adult_18', 'socialmediapurch_adult_19', 'socialmediapurch_adult_20', 'socialmediapurch_adult_21', 'socialmediapurch_adult_22', 'socialmediapurch_adult_23', 'socialmediapurch_adult_24', 'socialmediapurch_adult_25', 'socialmediapurch_adult_26', 'socialmediapurch_adult_27', 'socialmediapurch_adult_28', 'socialmediapurch_adult_29', 'socialmediapurch_adult_30', 'socialmediapurch_adult_31', 'socialmediapurch_adult_32', 'socialmediapurch_adult_33', 'socialmediapurch_adult_34', 'socialmediapurch_adult_35', 'socialmediapurch_adult_36', 'social_media_for_money_complete', 'score_svs_f_gullibility', 'score_svs_f_credulity', 'score_svs_f_total', 'participant_id.3', 'debrief_engage', 'debrief_tactic', 'debrief_sharefair', 'debrief_sharegreatest', 'debrief_rejectgreatest', 'debrief_rejectfair', 'debrief_belief_friend', 'debrief_belief_oldps', 'debrief_belief_easy', 'debrief_belief_hard', 'debrief_belief_bonus', 'debrief_belief_real', 'debrief_angry___0', 'debrief_angry___1', 'debrief_angry___3', 'debrief_angry___4', 'debrief_irritated___0', 'debrief_irritated___1', 'debrief_irritated___3', 'debrief_irritated___4', 'debrief_tense___0', 'debrief_tense___1', 'debrief_tense___3', 'debrief_tense___4', 'debrief_annoyed___0', 'debrief_annoyed___1', 'debrief_annoyed___3', 'debrief_annoyed___4', 'debrief_frustrated___0', 'debrief_frustrated___1', 'debrief_frustrated___3', 'debrief_frustrated___4', 'debrief_irate___0', 'debrief_irate___1', 'debrief_irate___3', 'debrief_irate___4', 'debrief_mad___0', 'debrief_mad___1', 'debrief_mad___3', 'debrief_mad___4', 'debrief_sad___0', 'debrief_sad___1', 'debrief_sad___3', 'debrief_sad___4', 'debrief_neutral___0', 'debrief_neutral___1', 'debrief_neutral___3', 'debrief_neutral___4', 'debrief_noemotion___0', 'debrief_noemotion___1', 'debrief_noemotion___3', 'debrief_noemotion___4', 'debrief_confused___0', 'debrief_confused___1', 'debrief_confused___3', 'debrief_confused___4', 'debrief_unsure___0', 'debrief_unsure___1', 'debrief_unsure___3', 'debrief_unsure___4', 'debrief_indifferent___0', 'debrief_indifferent___1', 'debrief_indifferent___3', 'debrief_indifferent___4', 'debrief_bored___0', 'debrief_bored___1', 'debrief_bored___3', 'debrief_bored___4', 'debrief_disinterested___0', 'debrief_disinterested___1', 'debrief_disinterested___3', 'debrief_disinterested___4', 'debrief_surprised___0', 'debrief_surprised___1', 'debrief_surprised___3', 'debrief_surprised___4', 'debrief_content___0', 'debrief_content___1', 'debrief_content___3', 'debrief_content___4', 'debrief_happy___0', 'debrief_happy___1', 'debrief_happy___3', 'debrief_happy___4', 'debrief_helpful___0', 'debrief_helpful___1', 'debrief_helpful___3', 'debrief_helpful___4', 'debrief_joyful___0', 'debrief_joyful___1', 'debrief_joyful___3', 'debrief_joyful___4', 'debrief_hopeful___0', 'debrief_hopeful___1', 'debrief_hopeful___3', 'debrief_hopeful___4', 'debrief_peaceful___0', 'debrief_peaceful___1', 'debrief_peaceful___3', 'debrief_peaceful___4', 'debrief_great___0', 'debrief_great___1', 'debrief_great___3', 'debrief_great___4', 'debrief_strategy_mid', 'debrief_strategy_sr', 'debrief_strategy_doors', 'debrief_strategy_ugdg', 'sd_feel_2', 'sd_feel_3', 'sd_bored', 'sd_angry', 'sd_happy', 'sd_tired', 'd_win_happy', 'd_win_surprised', 'd_loss_upset', 'd_loss_surprised', 'sd_liked_happy', 'sd_liked_surprised', 'sd_disliked_upset', 'sd_disliked_surprised', 'sd_liked_happy_samegender', 'sd_liked_surprised_samegender', 'sd_disliked_upset_samegender', 'sd_disliked_surprised_samegender', 'sd_liked_happy_othergender', 'sd_liked_surprised_othergender', 'sd_disliked_upset_othergender', 'sd_disliked_surprised_othergender', 'sd_liked_happy_samerace', 'sd_liked_surprised_samerace', 'sd_disliked_upset_samerace', 'sd_disliked_surprised_samerace', 'sd_liked_happy_otherrace', 'sd_liked_surprised_otherrace', 'sd_disliked_upset_otherrace', 'sd_disliked_surprised_otherrace', 'sd_debrief_qs_yn', 'sd_debrief_qs_notes', 'sd_debrief_standout', 'sd_debrief_standout_notes', 'sd_debrief_people_rating', 'sd_debrief_people_rating_level', 'debrief_comments', 'debrief_commentstext_av', 'postscan_questionnaires_complete', 'participant_id.4', 'gender', 'spsrq_1', 'spsrq_2', 'spsrq_3', 'spsrq_4', 'spsrq_5', 'spsrq_6', 'spsrq_7', 'spsrq_8', 'spsrq_9', 'spsrq_10', 'spsrq_11', 'spsrq_12', 'spsrq_13', 'spsrq_14', 'spsrq_15', 'spsrq_16', 'spsrq_17', 'spsrq_18', 'spsrq_19', 'spsrq_20', 'spsrq_21', 'spsrq_22', 'spsrq_23', 'spsrq_24', 'spsrq_25', 'spsrq_26', 'spsrq_27', 'spsrq_28', 'spsrq_29', 'spsrq_30', 'spsrq_31', 'spsrq_32', 'spsrq_33', 'spsrq_34', 'spsrq_35', 'spsrq_36', 'spsrq_37', 'spsrq_38', 'spsrq_39', 'spsrq_40', 'spsrq_41', 'spsrq_42', 'spsrq_43', 'spsrq_44', 'spsrq_45', 'spsrq_46', 'spsrq_47', 'spsrq_48', 'bisbas_1', 'bisbas_2', 'bisbas_3', 'bisbas_4', 'bisbas_5', 'bisbas_6', 'bisbas_7', 'bisbas_8', 'bisbas_9', 'bisbas_10', 'bisbas_11', 'bisbas_12', 'bisbas_13', 'bisbas_14', 'bisbas_15', 'bisbas_16', 'bisbas_17', 'bisbas_18', 'bisbas_19', 'bisbas_20', 'SPSRWD', 'BISBAS_BAS', 'BISBAS_BAS_Quintiles', 'SPSRWD_Quintiles', 'QUIN_DIFF', 'audit_1', 'audit_2', 'audit_3', 'audit_4', 'audit_5', 'audit_6', 'audit_7', 'audit_8', 'audit_9', 'audit_10', 'dudit_1', 'dudit_drugtype_1', 'dudit_drugtype_2', 'dudit_drugtype_3', 'dudit_drugtype_4', 'dudit_drugtype_5', 'dudit_drugtype_6', 'dudit_drugtype_7', 'dudit_drugtype_8', 'dudit_drugtype_9', 'dudit_2', 'dudit_3', 'dudit_4', 'dudit_5', 'dudit_6', 'dudit_7', 'dudit_8', 'dudit_9', 'dudit_10', 'dudit_11', 'audit', 'dudit', 'RealID', 'gender.1', 'SPSRWD.1', 'BISBAS_BAS.1', 'PC1']\n"
     ]
    }
   ],
   "source": [
    "fname='../Data_In/ISTART_Combined_PersonalityData_020722.xlsx'\n",
    "df=pd.read_excel(fname)\n",
    "print(df.columns.tolist())"
   ]
  },
  {
   "cell_type": "code",
   "execution_count": 28,
   "metadata": {},
   "outputs": [
    {
     "ename": "KeyError",
     "evalue": "False",
     "output_type": "error",
     "traceback": [
      "\u001b[1;31m---------------------------------------------------------------------------\u001b[0m",
      "\u001b[1;31mKeyError\u001b[0m                                  Traceback (most recent call last)",
      "\u001b[1;32m~\\Anaconda3\\lib\\site-packages\\pandas\\core\\indexes\\base.py\u001b[0m in \u001b[0;36mget_loc\u001b[1;34m(self, key, method, tolerance)\u001b[0m\n\u001b[0;32m   3360\u001b[0m             \u001b[1;32mtry\u001b[0m\u001b[1;33m:\u001b[0m\u001b[1;33m\u001b[0m\u001b[1;33m\u001b[0m\u001b[0m\n\u001b[1;32m-> 3361\u001b[1;33m                 \u001b[1;32mreturn\u001b[0m \u001b[0mself\u001b[0m\u001b[1;33m.\u001b[0m\u001b[0m_engine\u001b[0m\u001b[1;33m.\u001b[0m\u001b[0mget_loc\u001b[0m\u001b[1;33m(\u001b[0m\u001b[0mcasted_key\u001b[0m\u001b[1;33m)\u001b[0m\u001b[1;33m\u001b[0m\u001b[1;33m\u001b[0m\u001b[0m\n\u001b[0m\u001b[0;32m   3362\u001b[0m             \u001b[1;32mexcept\u001b[0m \u001b[0mKeyError\u001b[0m \u001b[1;32mas\u001b[0m \u001b[0merr\u001b[0m\u001b[1;33m:\u001b[0m\u001b[1;33m\u001b[0m\u001b[1;33m\u001b[0m\u001b[0m\n",
      "\u001b[1;32m~\\Anaconda3\\lib\\site-packages\\pandas\\_libs\\index.pyx\u001b[0m in \u001b[0;36mpandas._libs.index.IndexEngine.get_loc\u001b[1;34m()\u001b[0m\n",
      "\u001b[1;32m~\\Anaconda3\\lib\\site-packages\\pandas\\_libs\\index.pyx\u001b[0m in \u001b[0;36mpandas._libs.index.IndexEngine.get_loc\u001b[1;34m()\u001b[0m\n",
      "\u001b[1;32mpandas\\_libs\\hashtable_class_helper.pxi\u001b[0m in \u001b[0;36mpandas._libs.hashtable.PyObjectHashTable.get_item\u001b[1;34m()\u001b[0m\n",
      "\u001b[1;32mpandas\\_libs\\hashtable_class_helper.pxi\u001b[0m in \u001b[0;36mpandas._libs.hashtable.PyObjectHashTable.get_item\u001b[1;34m()\u001b[0m\n",
      "\u001b[1;31mKeyError\u001b[0m: False",
      "\nThe above exception was the direct cause of the following exception:\n",
      "\u001b[1;31mKeyError\u001b[0m                                  Traceback (most recent call last)",
      "\u001b[1;32m~\\AppData\\Local\\Temp/ipykernel_13232/3053745999.py\u001b[0m in \u001b[0;36m<module>\u001b[1;34m\u001b[0m\n\u001b[0;32m      1\u001b[0m \u001b[0mdf\u001b[0m \u001b[1;33m=\u001b[0m \u001b[0mdf\u001b[0m\u001b[1;33m[\u001b[0m\u001b[1;33m[\u001b[0m\u001b[1;34m'participant_id'\u001b[0m\u001b[1;33m,\u001b[0m \u001b[1;34m'SPSRWD'\u001b[0m\u001b[1;33m,\u001b[0m \u001b[1;34m'BISBAS_BAS'\u001b[0m\u001b[1;33m,\u001b[0m \u001b[1;34m'SPSRWD.1'\u001b[0m\u001b[1;33m,\u001b[0m \u001b[1;34m'BISBAS_BAS.1'\u001b[0m\u001b[1;33m,\u001b[0m\u001b[1;34m'BISBAS_BAS_Quintiles'\u001b[0m\u001b[1;33m,\u001b[0m \u001b[1;34m'SPSRWD_Quintiles'\u001b[0m\u001b[1;33m,\u001b[0m \u001b[1;34m'QUIN_DIFF'\u001b[0m\u001b[1;33m]\u001b[0m\u001b[1;33m]\u001b[0m\u001b[1;33m\u001b[0m\u001b[1;33m\u001b[0m\u001b[0m\n\u001b[1;32m----> 2\u001b[1;33m \u001b[0mdf\u001b[0m \u001b[1;33m=\u001b[0m \u001b[0mdf\u001b[0m\u001b[1;33m[\u001b[0m\u001b[1;34m'N'\u001b[0m \u001b[1;32min\u001b[0m \u001b[0mdf\u001b[0m\u001b[1;33m[\u001b[0m\u001b[1;34m'participant_id'\u001b[0m\u001b[1;33m]\u001b[0m\u001b[1;33m]\u001b[0m\u001b[1;33m\u001b[0m\u001b[1;33m\u001b[0m\u001b[0m\n\u001b[0m\u001b[0;32m      3\u001b[0m \u001b[0mcormat\u001b[0m\u001b[1;33m=\u001b[0m\u001b[0mdf\u001b[0m\u001b[1;33m.\u001b[0m\u001b[0mcorr\u001b[0m\u001b[1;33m(\u001b[0m\u001b[1;33m)\u001b[0m\u001b[1;33m\u001b[0m\u001b[1;33m\u001b[0m\u001b[0m\n\u001b[0;32m      4\u001b[0m \u001b[0mdisplay\u001b[0m\u001b[1;33m(\u001b[0m\u001b[0mcormat\u001b[0m\u001b[1;33m)\u001b[0m\u001b[1;33m\u001b[0m\u001b[1;33m\u001b[0m\u001b[0m\n\u001b[0;32m      5\u001b[0m \u001b[0mfig\u001b[0m \u001b[1;33m=\u001b[0m \u001b[0mplt\u001b[0m\u001b[1;33m.\u001b[0m\u001b[0mfigure\u001b[0m\u001b[1;33m(\u001b[0m\u001b[0mfigsize\u001b[0m\u001b[1;33m=\u001b[0m\u001b[1;33m(\u001b[0m\u001b[1;36m12\u001b[0m\u001b[1;33m,\u001b[0m \u001b[1;36m8\u001b[0m\u001b[1;33m)\u001b[0m\u001b[1;33m)\u001b[0m\u001b[1;33m\u001b[0m\u001b[1;33m\u001b[0m\u001b[0m\n",
      "\u001b[1;32m~\\Anaconda3\\lib\\site-packages\\pandas\\core\\frame.py\u001b[0m in \u001b[0;36m__getitem__\u001b[1;34m(self, key)\u001b[0m\n\u001b[0;32m   3456\u001b[0m             \u001b[1;32mif\u001b[0m \u001b[0mself\u001b[0m\u001b[1;33m.\u001b[0m\u001b[0mcolumns\u001b[0m\u001b[1;33m.\u001b[0m\u001b[0mnlevels\u001b[0m \u001b[1;33m>\u001b[0m \u001b[1;36m1\u001b[0m\u001b[1;33m:\u001b[0m\u001b[1;33m\u001b[0m\u001b[1;33m\u001b[0m\u001b[0m\n\u001b[0;32m   3457\u001b[0m                 \u001b[1;32mreturn\u001b[0m \u001b[0mself\u001b[0m\u001b[1;33m.\u001b[0m\u001b[0m_getitem_multilevel\u001b[0m\u001b[1;33m(\u001b[0m\u001b[0mkey\u001b[0m\u001b[1;33m)\u001b[0m\u001b[1;33m\u001b[0m\u001b[1;33m\u001b[0m\u001b[0m\n\u001b[1;32m-> 3458\u001b[1;33m             \u001b[0mindexer\u001b[0m \u001b[1;33m=\u001b[0m \u001b[0mself\u001b[0m\u001b[1;33m.\u001b[0m\u001b[0mcolumns\u001b[0m\u001b[1;33m.\u001b[0m\u001b[0mget_loc\u001b[0m\u001b[1;33m(\u001b[0m\u001b[0mkey\u001b[0m\u001b[1;33m)\u001b[0m\u001b[1;33m\u001b[0m\u001b[1;33m\u001b[0m\u001b[0m\n\u001b[0m\u001b[0;32m   3459\u001b[0m             \u001b[1;32mif\u001b[0m \u001b[0mis_integer\u001b[0m\u001b[1;33m(\u001b[0m\u001b[0mindexer\u001b[0m\u001b[1;33m)\u001b[0m\u001b[1;33m:\u001b[0m\u001b[1;33m\u001b[0m\u001b[1;33m\u001b[0m\u001b[0m\n\u001b[0;32m   3460\u001b[0m                 \u001b[0mindexer\u001b[0m \u001b[1;33m=\u001b[0m \u001b[1;33m[\u001b[0m\u001b[0mindexer\u001b[0m\u001b[1;33m]\u001b[0m\u001b[1;33m\u001b[0m\u001b[1;33m\u001b[0m\u001b[0m\n",
      "\u001b[1;32m~\\Anaconda3\\lib\\site-packages\\pandas\\core\\indexes\\base.py\u001b[0m in \u001b[0;36mget_loc\u001b[1;34m(self, key, method, tolerance)\u001b[0m\n\u001b[0;32m   3361\u001b[0m                 \u001b[1;32mreturn\u001b[0m \u001b[0mself\u001b[0m\u001b[1;33m.\u001b[0m\u001b[0m_engine\u001b[0m\u001b[1;33m.\u001b[0m\u001b[0mget_loc\u001b[0m\u001b[1;33m(\u001b[0m\u001b[0mcasted_key\u001b[0m\u001b[1;33m)\u001b[0m\u001b[1;33m\u001b[0m\u001b[1;33m\u001b[0m\u001b[0m\n\u001b[0;32m   3362\u001b[0m             \u001b[1;32mexcept\u001b[0m \u001b[0mKeyError\u001b[0m \u001b[1;32mas\u001b[0m \u001b[0merr\u001b[0m\u001b[1;33m:\u001b[0m\u001b[1;33m\u001b[0m\u001b[1;33m\u001b[0m\u001b[0m\n\u001b[1;32m-> 3363\u001b[1;33m                 \u001b[1;32mraise\u001b[0m \u001b[0mKeyError\u001b[0m\u001b[1;33m(\u001b[0m\u001b[0mkey\u001b[0m\u001b[1;33m)\u001b[0m \u001b[1;32mfrom\u001b[0m \u001b[0merr\u001b[0m\u001b[1;33m\u001b[0m\u001b[1;33m\u001b[0m\u001b[0m\n\u001b[0m\u001b[0;32m   3364\u001b[0m \u001b[1;33m\u001b[0m\u001b[0m\n\u001b[0;32m   3365\u001b[0m         \u001b[1;32mif\u001b[0m \u001b[0mis_scalar\u001b[0m\u001b[1;33m(\u001b[0m\u001b[0mkey\u001b[0m\u001b[1;33m)\u001b[0m \u001b[1;32mand\u001b[0m \u001b[0misna\u001b[0m\u001b[1;33m(\u001b[0m\u001b[0mkey\u001b[0m\u001b[1;33m)\u001b[0m \u001b[1;32mand\u001b[0m \u001b[1;32mnot\u001b[0m \u001b[0mself\u001b[0m\u001b[1;33m.\u001b[0m\u001b[0mhasnans\u001b[0m\u001b[1;33m:\u001b[0m\u001b[1;33m\u001b[0m\u001b[1;33m\u001b[0m\u001b[0m\n",
      "\u001b[1;31mKeyError\u001b[0m: False"
     ]
    }
   ],
   "source": [
    "df = df[['participant_id', 'SPSRWD', 'BISBAS_BAS', 'SPSRWD.1', 'BISBAS_BAS.1','BISBAS_BAS_Quintiles', 'SPSRWD_Quintiles', 'QUIN_DIFF']]\n",
    "df = df['N' in df['participant_id']]\n",
    "cormat=df.corr()\n",
    "display(cormat)\n",
    "fig = plt.figure(figsize=(12, 8))\n",
    "sms.heatmap(cormat,cmap='vlag',vmin=-1)\n"
   ]
  },
  {
   "cell_type": "code",
   "execution_count": 18,
   "metadata": {},
   "outputs": [
    {
     "name": "stdout",
     "output_type": "stream",
     "text": [
      "Correlation between reward sensitivity is \n",
      " R^2: 0.4582872755754281 p: 1.5333008566420115e-09\n"
     ]
    },
    {
     "data": {
      "image/png": "[encoded data removed]",
      "text/plain": [
       "<Figure size 360x360 with 1 Axes>"
      ]
     },
     "metadata": {
      "needs_background": "light"
     },
     "output_type": "display_data"
    },
    {
     "name": "stdout",
     "output_type": "stream",
     "text": [
      "<class 'seaborn.axisgrid.FacetGrid'>\n"
     ]
    }
   ],
   "source": [
    "r,p=stats.pearsonr(df['SPSRWD.1'],df['BISBAS_BAS.1'])\n",
    "print(\"Correlation between reward sensitivity is \\n R^2: %s p: %s\"%(r**2,p))\n",
    "g=sms.lmplot(x='SPSRWD.1',y='BISBAS_BAS.1',data=df)\n",
    "plt.show()\n",
    "print(type(g))\n"
   ]
  },
  {
   "cell_type": "code",
   "execution_count": 6,
   "metadata": {},
   "outputs": [
    {
     "name": "stdout",
     "output_type": "stream",
     "text": [
      "[[  0.68841083]\n",
      " [ -1.41780736]\n",
      " [  0.85358149]\n",
      " [  1.10192185]\n",
      " [  1.10192185]\n",
      " [  0.19289882]\n",
      " [ -1.70714821]\n",
      " [ -1.70714821]\n",
      " [ -0.46778384]\n",
      " [ -2.69817221]\n",
      " [  0.64741034]\n",
      " [ -2.32683039]\n",
      " [  1.10192185]\n",
      " [ -9.18433487]\n",
      " [  3.91099191]\n",
      " [ -1.54197754]\n",
      " [ -5.13590045]\n",
      " [  2.50645688]\n",
      " [ -3.73136542]\n",
      " [  9.52913203]\n",
      " [  1.72160403]\n",
      " [  6.72006197]\n",
      " [ -2.32683039]\n",
      " [ 11.39149789]\n",
      " [ -0.30261318]\n",
      " [ 10.80949688]\n",
      " [ -4.51621827]\n",
      " [  1.8867747 ]\n",
      " [ -3.89653609]\n",
      " [  8.78527967]\n",
      " [ -4.3510476 ]\n",
      " [  2.67162755]\n",
      " [  1.10192185]\n",
      " [  1.26709252]\n",
      " [ -2.16165972]\n",
      " [-13.66951552]\n",
      " [  3.12613906]\n",
      " [ -1.54197754]\n",
      " [  3.58065058]\n",
      " [ -8.06914069]\n",
      " [ -5.75558263]\n",
      " [  1.26709252]\n",
      " [ -3.73136542]\n",
      " [ -7.65562966]\n",
      " [  3.91099191]\n",
      " [ -0.92229536]\n",
      " [ -3.56619475]\n",
      " [  3.91099191]\n",
      " [ -6.70560615]\n",
      " [ -3.40102408]\n",
      " [ 11.09883773]\n",
      " [ -1.08746603]\n",
      " [ -0.92229536]\n",
      " [  1.43226319]\n",
      " [  3.12613906]\n",
      " [  7.50491482]\n",
      " [ -1.08746603]\n",
      " [  8.57910852]\n",
      " [ -3.2768539 ]\n",
      " [ -3.11168324]\n",
      " [ -2.32683039]\n",
      " [ -1.08746603]\n",
      " [  1.43226319]\n",
      " [  9.73530319]\n",
      " [  4.69584476]\n",
      " [ -9.96918772]\n",
      " [ 14.23824913]\n",
      " [ -5.59041196]\n",
      " [ -3.56619475]\n",
      " [ -7.49045899]\n",
      " [  4.24133325]\n",
      " [ -6.54043548]\n",
      " [ -4.75518815]\n",
      " [ -2.7813419 ]\n",
      " [  0.81258101]\n",
      " [ 13.28822561]\n",
      " [  5.77003846]\n",
      " [ -1.70714821]\n",
      " [  4.24133325]\n",
      " [ -3.73136542]\n",
      " [  0.64741034]\n",
      " [ -5.75558263]\n",
      " [  1.10192185]\n",
      " [  6.59589179]\n",
      " [ -7.32528833]\n",
      " [ -2.49200106]\n",
      " [  2.67162755]\n",
      " [ -5.59041196]\n",
      " [ -1.08746603]\n",
      " [  0.48223967]\n",
      " [ -1.70714821]]\n"
     ]
    },
    {
     "data": {
      "text/plain": [
       "0     0.688411\n",
       "1    -1.417807\n",
       "2     0.853581\n",
       "3     1.101922\n",
       "4     1.101922\n",
       "        ...   \n",
       "86    2.671628\n",
       "87   -5.590412\n",
       "88   -1.087466\n",
       "89    0.482240\n",
       "90   -1.707148\n",
       "Name: PC1, Length: 91, dtype: float64"
      ]
     },
     "metadata": {},
     "output_type": "display_data"
    }
   ],
   "source": [
    "from sklearn.decomposition import PCA\n",
    "pca=PCA(n_components=1)\n",
    "\n",
    "features=['SPSRWD','BISBAS_BAS']\n",
    "X = df.loc[:, features].values\n",
    "PC1=pca.fit_transform(X)\n",
    "print(PC1)\n",
    "\n",
    "df['PC1']=PC1\n",
    "display(df['PC1'])\n",
    "df.to_csv(fname,index='False')"
   ]
  },
  {
   "cell_type": "code",
   "execution_count": 7,
   "metadata": {},
   "outputs": [
    {
     "data": {
      "image/png": "[encoded data removed]",
      "text/plain": [
       "<Figure size 432x288 with 1 Axes>"
      ]
     },
     "metadata": {
      "needs_background": "light"
     },
     "output_type": "display_data"
    }
   ],
   "source": [
    "plt.scatter(X[:, 0], X[:, 1], alpha=0.3, label=\"samples\")\n",
    "for i, (comp, var) in enumerate(zip(pca.components_, pca.explained_variance_)):\n",
    "    comp = comp * var  # scale component by its variance explanation power\n",
    "    plt.plot(\n",
    "        [0, comp[0]],\n",
    "        [0, comp[1]],\n",
    "        label=f\"Component {i}\",\n",
    "        linewidth=5,\n",
    "        color=f\"C{i + 2}\",\n",
    "    )\n",
    "plt.gca().set(\n",
    "    title=\"2-dimensional dataset with principal components\",\n",
    "    xlabel=\"first feature\",\n",
    "    ylabel=\"second feature\",\n",
    ")\n",
    "plt.legend()\n",
    "plt.show()"
   ]
  },
  {
   "cell_type": "code",
   "execution_count": null,
   "metadata": {},
   "outputs": [],
   "source": []
  }
 ],
 "metadata": {
  "kernelspec": {
   "display_name": "Python 3 (ipykernel)",
   "language": "python",
   "name": "python3"
  },
  "language_info": {
   "codemirror_mode": {
    "name": "ipython",
    "version": 3
   },
   "file_extension": ".py",
   "mimetype": "text/x-python",
   "name": "python",
   "nbconvert_exporter": "python",
   "pygments_lexer": "ipython3",
   "version": "3.9.7"
  }
 },
 "nbformat": 4,
 "nbformat_minor": 4
}
