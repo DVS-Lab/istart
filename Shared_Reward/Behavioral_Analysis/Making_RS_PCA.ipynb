{
 "cells": [
  {
   "cell_type": "code",
   "execution_count": 2,
   "metadata": {},
   "outputs": [],
   "source": [
    "import pandas as pd\n",
    "import scipy.stats as stats\n",
    "import numpy as np \n",
    "import matplotlib.pyplot as plt\n",
    "import seaborn as sms\n",
    "import os\n",
    "import inspect"
   ]
  },
  {
   "cell_type": "code",
   "execution_count": 3,
   "metadata": {},
   "outputs": [
    {
     "data": {
      "text/plain": [
       "['.ipynb_checkpoints',\n",
       " 'Aggregation-checkpoint.ipynb',\n",
       " 'Aggregation.ipynb',\n",
       " 'AllSharedRewardData.csv',\n",
       " 'Helping Ori & Amanda.ipynb',\n",
       " 'ISTART2021-Demographics_DATA_2021-10-29_1323.csv',\n",
       " 'ISTART2021-QuestionnaireScoresU_DATA_2021-10-29_1336.csv',\n",
       " 'ISTART2021-RewardSensitivityQui_DATA_2021-10-29_1337.csv',\n",
       " 'ISTART2021-RSQ.csv',\n",
       " 'joinedfile.csv',\n",
       " 'Making_RS_PCA.ipynb',\n",
       " 'QUALTRICS',\n",
       " 'Reward_Sensitivity.csv',\n",
       " 'Shared Reward Behavioral Analysis.ipynb',\n",
       " 'SR_PartnerRatings.csv',\n",
       " 'SR_PartnerRatings_PS.csv',\n",
       " 'SR_REDCap_data.csv']"
      ]
     },
     "execution_count": 3,
     "metadata": {},
     "output_type": "execute_result"
    }
   ],
   "source": [
    "os.listdir('.')"
   ]
  },
  {
   "cell_type": "code",
   "execution_count": 10,
   "metadata": {},
   "outputs": [
    {
     "name": "stdout",
     "output_type": "stream",
     "text": [
      "<class 'pandas.core.frame.DataFrame'>\n"
     ]
    },
    {
     "data": {
      "text/html": [
       "<div>\n",
       "<style scoped>\n",
       "    .dataframe tbody tr th:only-of-type {\n",
       "        vertical-align: middle;\n",
       "    }\n",
       "\n",
       "    .dataframe tbody tr th {\n",
       "        vertical-align: top;\n",
       "    }\n",
       "\n",
       "    .dataframe thead th {\n",
       "        text-align: right;\n",
       "    }\n",
       "</style>\n",
       "<table border=\"1\" class=\"dataframe\">\n",
       "  <thead>\n",
       "    <tr style=\"text-align: right;\">\n",
       "      <th></th>\n",
       "      <th>RealID</th>\n",
       "      <th>gender</th>\n",
       "      <th>SPSRWD</th>\n",
       "      <th>BISBAS_BAS</th>\n",
       "      <th>PC1</th>\n",
       "    </tr>\n",
       "  </thead>\n",
       "  <tbody>\n",
       "  </tbody>\n",
       "</table>\n",
       "</div>"
      ],
      "text/plain": [
       "Empty DataFrame\n",
       "Columns: [RealID, gender, SPSRWD, BISBAS_BAS, PC1]\n",
       "Index: []"
      ]
     },
     "execution_count": 10,
     "metadata": {},
     "output_type": "execute_result"
    }
   ],
   "source": [
    "fname='Reward_Sensitivity.csv'\n",
    "PC1 = pd.read_csv(fname)\n",
    "print(type(PC1))\n",
    "PC1.head(0)\n"
   ]
  },
  {
   "cell_type": "code",
   "execution_count": 11,
   "metadata": {},
   "outputs": [
    {
     "data": {
      "text/html": [
       "<div>\n",
       "<style scoped>\n",
       "    .dataframe tbody tr th:only-of-type {\n",
       "        vertical-align: middle;\n",
       "    }\n",
       "\n",
       "    .dataframe tbody tr th {\n",
       "        vertical-align: top;\n",
       "    }\n",
       "\n",
       "    .dataframe thead th {\n",
       "        text-align: right;\n",
       "    }\n",
       "</style>\n",
       "<table border=\"1\" class=\"dataframe\">\n",
       "  <thead>\n",
       "    <tr style=\"text-align: right;\">\n",
       "      <th></th>\n",
       "      <th>RealID</th>\n",
       "      <th>gender</th>\n",
       "      <th>SPSRWD</th>\n",
       "      <th>BISBAS_BAS</th>\n",
       "      <th>PC1</th>\n",
       "    </tr>\n",
       "  </thead>\n",
       "  <tbody>\n",
       "    <tr>\n",
       "      <th>RealID</th>\n",
       "      <td>1.000000</td>\n",
       "      <td>0.018243</td>\n",
       "      <td>-0.041490</td>\n",
       "      <td>0.045425</td>\n",
       "      <td>0.011193</td>\n",
       "    </tr>\n",
       "    <tr>\n",
       "      <th>gender</th>\n",
       "      <td>0.018243</td>\n",
       "      <td>1.000000</td>\n",
       "      <td>0.207568</td>\n",
       "      <td>-0.008792</td>\n",
       "      <td>0.087095</td>\n",
       "    </tr>\n",
       "    <tr>\n",
       "      <th>SPSRWD</th>\n",
       "      <td>-0.041490</td>\n",
       "      <td>0.207568</td>\n",
       "      <td>1.000000</td>\n",
       "      <td>0.632911</td>\n",
       "      <td>0.861885</td>\n",
       "    </tr>\n",
       "    <tr>\n",
       "      <th>BISBAS_BAS</th>\n",
       "      <td>0.045425</td>\n",
       "      <td>-0.008792</td>\n",
       "      <td>0.632911</td>\n",
       "      <td>1.000000</td>\n",
       "      <td>0.938109</td>\n",
       "    </tr>\n",
       "    <tr>\n",
       "      <th>PC1</th>\n",
       "      <td>0.011193</td>\n",
       "      <td>0.087095</td>\n",
       "      <td>0.861885</td>\n",
       "      <td>0.938109</td>\n",
       "      <td>1.000000</td>\n",
       "    </tr>\n",
       "  </tbody>\n",
       "</table>\n",
       "</div>"
      ],
      "text/plain": [
       "              RealID    gender    SPSRWD  BISBAS_BAS       PC1\n",
       "RealID      1.000000  0.018243 -0.041490    0.045425  0.011193\n",
       "gender      0.018243  1.000000  0.207568   -0.008792  0.087095\n",
       "SPSRWD     -0.041490  0.207568  1.000000    0.632911  0.861885\n",
       "BISBAS_BAS  0.045425 -0.008792  0.632911    1.000000  0.938109\n",
       "PC1         0.011193  0.087095  0.861885    0.938109  1.000000"
      ]
     },
     "metadata": {},
     "output_type": "display_data"
    },
    {
     "data": {
      "text/plain": [
       "<AxesSubplot:>"
      ]
     },
     "execution_count": 11,
     "metadata": {},
     "output_type": "execute_result"
    },
    {
     "data": {
      "image/png": "[encoded data removed]",
      "text/plain": [
       "<Figure size 864x576 with 2 Axes>"
      ]
     },
     "metadata": {
      "needs_background": "light"
     },
     "output_type": "display_data"
    }
   ],
   "source": [
    "cormat=PC1.corr()\n",
    "display(cormat)\n",
    "fig = plt.figure(figsize=(12, 8))\n",
    "sms.heatmap(cormat,cmap='vlag',vmin=-1)\n"
   ]
  },
  {
   "cell_type": "code",
   "execution_count": 5,
   "metadata": {},
   "outputs": [
    {
     "name": "stdout",
     "output_type": "stream",
     "text": [
      "Correlation between reward sensitivity is \n",
      " R^2: 0.4005757191048226 p: 2.8445206641786736e-11\n"
     ]
    },
    {
     "data": {
      "image/png": "[encoded data removed]",
      "text/plain": [
       "<Figure size 360x360 with 1 Axes>"
      ]
     },
     "metadata": {
      "needs_background": "light"
     },
     "output_type": "display_data"
    },
    {
     "name": "stdout",
     "output_type": "stream",
     "text": [
      "<class 'seaborn.axisgrid.FacetGrid'>\n"
     ]
    }
   ],
   "source": [
    "PC1=PC1[['RealID','gender','SPSRWD','BISBAS_BAS']]\n",
    "r,p=stats.pearsonr(PC1['SPSRWD'],PC1['BISBAS_BAS'])\n",
    "print(\"Correlation between reward sensitivity is \\n R^2: %s p: %s\"%(r**2,p))\n",
    "g=sms.lmplot(x='SPSRWD',y='BISBAS_BAS',data=PC1)\n",
    "plt.show()\n",
    "print(type(g))\n"
   ]
  },
  {
   "cell_type": "code",
   "execution_count": 9,
   "metadata": {},
   "outputs": [
    {
     "name": "stdout",
     "output_type": "stream",
     "text": [
      "[[  0.74861898]\n",
      " [ -1.33873221]\n",
      " [  0.91155464]\n",
      " [  1.17580104]\n",
      " [  1.17580104]\n",
      " [  0.25981198]\n",
      " [ -1.63379108]\n",
      " [ -1.63379108]\n",
      " [ -0.39193069]\n",
      " [ -2.61140508]\n",
      " [  0.71780651]\n",
      " [ -2.25472128]\n",
      " [  1.17580104]\n",
      " [ -9.11576591]\n",
      " [  3.98539316]\n",
      " [ -1.47085541]\n",
      " [ -5.06431339]\n",
      " [  2.5805971 ]\n",
      " [ -3.65951733]\n",
      " [  9.6045774 ]\n",
      " [  1.79673124]\n",
      " [  6.79498528]\n",
      " [ -2.25472128]\n",
      " [ 11.46662854]\n",
      " [ -0.22899502]\n",
      " [ 10.87725026]\n",
      " [ -4.4433832 ]\n",
      " [  1.9596669 ]\n",
      " [ -3.822453  ]\n",
      " [  8.851524  ]\n",
      " [ -4.28044753]\n",
      " [  2.74353277]\n",
      " [  1.17580104]\n",
      " [  1.33873671]\n",
      " [ -2.09178561]\n",
      " [-13.58922437]\n",
      " [  3.2015273 ]\n",
      " [ -1.47085541]\n",
      " [  3.65952183]\n",
      " [ -8.00602871]\n",
      " [ -5.68524359]\n",
      " [  1.33873671]\n",
      " [ -3.65951733]\n",
      " [ -7.57884665]\n",
      " [  3.98539316]\n",
      " [ -0.84992522]\n",
      " [ -3.49658167]\n",
      " [  3.98539316]\n",
      " [ -6.63204512]\n",
      " [ -3.333646  ]\n",
      " [ 11.17230912]\n",
      " [ -1.01286088]\n",
      " [ -0.84992522]\n",
      " [  1.50167237]\n",
      " [  3.2015273 ]\n",
      " [  7.57885114]\n",
      " [ -1.01286088]\n",
      " [  8.65777587]\n",
      " [ -3.2015228 ]\n",
      " [ -3.03858714]\n",
      " [ -2.25472128]\n",
      " [ -1.01286088]\n",
      " [  1.50167237]\n",
      " [  9.79832553]\n",
      " [  4.76925902]\n",
      " [ -9.89963177]\n",
      " [ 14.30777257]\n",
      " [ -5.52230792]\n",
      " [ -3.49658167]\n",
      " [ -7.41591098]\n",
      " [  4.31126449]\n",
      " [ -6.46910945]\n",
      " [ -4.68540201]\n",
      " [ -2.71271581]\n",
      " [  0.88074218]\n",
      " [ 13.36097105]\n",
      " [  5.84818375]\n",
      " [ -1.63379108]\n",
      " [  4.31126449]\n",
      " [ -3.65951733]\n",
      " [  0.71780651]\n",
      " [ -5.68524359]\n",
      " [  1.17580104]\n",
      " [  6.66286208]\n",
      " [ -7.25297532]\n",
      " [ -2.41765694]\n",
      " [  2.74353277]\n",
      " [ -5.52230792]\n",
      " [ -8.65777138]]\n"
     ]
    },
    {
     "data": {
      "text/plain": [
       "0     0.748619\n",
       "1    -1.338732\n",
       "2     0.911555\n",
       "3     1.175801\n",
       "4     1.175801\n",
       "        ...   \n",
       "84   -7.252975\n",
       "85   -2.417657\n",
       "86    2.743533\n",
       "87   -5.522308\n",
       "88   -8.657771\n",
       "Name: PC1, Length: 89, dtype: float64"
      ]
     },
     "metadata": {},
     "output_type": "display_data"
    }
   ],
   "source": [
    "from sklearn.decomposition import PCA\n",
    "pca=PCA(n_components=1)\n",
    "\n",
    "features=['SPSRWD','BISBAS_BAS']\n",
    "X = df.loc[:, features].values\n",
    "PC1=pca.fit_transform(X)\n",
    "print(PC1)\n",
    "\n",
    "df['PC1']=PC1\n",
    "display(df['PC1'])\n",
    "df.to_csv(fname,index='False')"
   ]
  },
  {
   "cell_type": "code",
   "execution_count": 10,
   "metadata": {},
   "outputs": [
    {
     "data": {
      "image/png": "[encoded data removed]",
      "text/plain": [
       "<Figure size 432x288 with 1 Axes>"
      ]
     },
     "metadata": {
      "needs_background": "light"
     },
     "output_type": "display_data"
    }
   ],
   "source": [
    "plt.scatter(X[:, 0], X[:, 1], alpha=0.3, label=\"samples\")\n",
    "for i, (comp, var) in enumerate(zip(pca.components_, pca.explained_variance_)):\n",
    "    comp = comp * var  # scale component by its variance explanation power\n",
    "    plt.plot(\n",
    "        [0, comp[0]],\n",
    "        [0, comp[1]],\n",
    "        label=f\"Component {i}\",\n",
    "        linewidth=5,\n",
    "        color=f\"C{i + 2}\",\n",
    "    )\n",
    "plt.gca().set(\n",
    "    title=\"2-dimensional dataset with principal components\",\n",
    "    xlabel=\"first feature\",\n",
    "    ylabel=\"second feature\",\n",
    ")\n",
    "plt.legend()\n",
    "plt.show()"
   ]
  },
  {
   "cell_type": "code",
   "execution_count": null,
   "metadata": {},
   "outputs": [],
   "source": []
  }
 ],
 "metadata": {
  "kernelspec": {
   "display_name": "Python 3",
   "language": "python",
   "name": "python3"
  },
  "language_info": {
   "codemirror_mode": {
    "name": "ipython",
    "version": 3
   },
   "file_extension": ".py",
   "mimetype": "text/x-python",
   "name": "python",
   "nbconvert_exporter": "python",
   "pygments_lexer": "ipython3",
   "version": "3.8.8"
  }
 },
 "nbformat": 4,
 "nbformat_minor": 4
}
