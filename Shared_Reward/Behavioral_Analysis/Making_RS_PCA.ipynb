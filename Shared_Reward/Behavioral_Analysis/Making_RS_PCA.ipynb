{
 "cells": [
  {
   "cell_type": "code",
   "execution_count": 1,
   "metadata": {},
   "outputs": [],
   "source": [
    "import pandas as pd\n",
    "import scipy.stats as stats\n",
    "import numpy as np \n",
    "import matplotlib.pyplot as plt\n",
    "import seaborn as sms\n",
    "import os\n",
    "import inspect"
   ]
  },
  {
   "cell_type": "code",
   "execution_count": 2,
   "metadata": {},
   "outputs": [
    {
     "data": {
      "text/plain": [
       "['.ipynb_checkpoints',\n",
       " '7U7D.csv',\n",
       " 'AADIS.csv',\n",
       " 'Aggregation-checkpoint.ipynb',\n",
       " 'AllSharedRewardData.csv',\n",
       " 'AUDIT, DUDIT, AADIS, 7U7D, rescoring and aggregation.ipynb',\n",
       " 'Helping Ori & Amanda.ipynb',\n",
       " 'ISTART - RECOVERED DATA - reward sensitivity screeners.csv',\n",
       " 'ISTART-Reward-Quintiles-Combined.csv',\n",
       " 'ISTART2021-Demographics_DATA_2021-10-29_1323.csv',\n",
       " 'ISTART2021-QuestionnaireScoresU_DATA_2021-10-29_1336.csv',\n",
       " 'ISTART2021-RewardSensitivityQui_DATA_2021-10-29_1337.csv',\n",
       " 'ISTART2021-RSQ.csv',\n",
       " 'joinedfile.csv',\n",
       " 'Making_RS_PCA.ipynb',\n",
       " 'ReadMe_Behavioral_Analysis.txt',\n",
       " 'Reward_Sensitivity.csv',\n",
       " 'Shared Reward Behavioral Analysis.ipynb',\n",
       " 'Shared Reward Data Aggregation.ipynb',\n",
       " 'SR_PartnerRatings.csv',\n",
       " 'SR_PartnerRatings_PS.csv',\n",
       " 'SR_REDCap_data.csv',\n",
       " 'Substance_and_Mood_data.csv',\n",
       " 'Substance_and_Mood_data_SCORED.csv']"
      ]
     },
     "execution_count": 2,
     "metadata": {},
     "output_type": "execute_result"
    }
   ],
   "source": [
    "os.listdir('.')"
   ]
  },
  {
   "cell_type": "code",
   "execution_count": 3,
   "metadata": {},
   "outputs": [
    {
     "name": "stdout",
     "output_type": "stream",
     "text": [
      "<class 'pandas.core.frame.DataFrame'>\n"
     ]
    },
    {
     "data": {
      "text/html": [
       "<div>\n",
       "<style scoped>\n",
       "    .dataframe tbody tr th:only-of-type {\n",
       "        vertical-align: middle;\n",
       "    }\n",
       "\n",
       "    .dataframe tbody tr th {\n",
       "        vertical-align: top;\n",
       "    }\n",
       "\n",
       "    .dataframe thead th {\n",
       "        text-align: right;\n",
       "    }\n",
       "</style>\n",
       "<table border=\"1\" class=\"dataframe\">\n",
       "  <thead>\n",
       "    <tr style=\"text-align: right;\">\n",
       "      <th></th>\n",
       "      <th>RealID</th>\n",
       "      <th>gender</th>\n",
       "      <th>SPSRWD</th>\n",
       "      <th>BISBAS_BAS</th>\n",
       "      <th>PC1</th>\n",
       "    </tr>\n",
       "  </thead>\n",
       "  <tbody>\n",
       "  </tbody>\n",
       "</table>\n",
       "</div>"
      ],
      "text/plain": [
       "Empty DataFrame\n",
       "Columns: [RealID, gender, SPSRWD, BISBAS_BAS, PC1]\n",
       "Index: []"
      ]
     },
     "execution_count": 3,
     "metadata": {},
     "output_type": "execute_result"
    }
   ],
   "source": [
    "fname='Reward_Sensitivity.csv'\n",
    "PC1 = pd.read_csv(fname)\n",
    "print(type(PC1))\n",
    "PC1.head(0)\n"
   ]
  },
  {
   "cell_type": "code",
   "execution_count": 4,
   "metadata": {},
   "outputs": [
    {
     "data": {
      "text/html": [
       "<div>\n",
       "<style scoped>\n",
       "    .dataframe tbody tr th:only-of-type {\n",
       "        vertical-align: middle;\n",
       "    }\n",
       "\n",
       "    .dataframe tbody tr th {\n",
       "        vertical-align: top;\n",
       "    }\n",
       "\n",
       "    .dataframe thead th {\n",
       "        text-align: right;\n",
       "    }\n",
       "</style>\n",
       "<table border=\"1\" class=\"dataframe\">\n",
       "  <thead>\n",
       "    <tr style=\"text-align: right;\">\n",
       "      <th></th>\n",
       "      <th>RealID</th>\n",
       "      <th>gender</th>\n",
       "      <th>SPSRWD</th>\n",
       "      <th>BISBAS_BAS</th>\n",
       "      <th>PC1</th>\n",
       "    </tr>\n",
       "  </thead>\n",
       "  <tbody>\n",
       "    <tr>\n",
       "      <th>RealID</th>\n",
       "      <td>1.000000</td>\n",
       "      <td>0.018243</td>\n",
       "      <td>-0.041490</td>\n",
       "      <td>0.045425</td>\n",
       "      <td>0.011193</td>\n",
       "    </tr>\n",
       "    <tr>\n",
       "      <th>gender</th>\n",
       "      <td>0.018243</td>\n",
       "      <td>1.000000</td>\n",
       "      <td>0.207568</td>\n",
       "      <td>-0.008792</td>\n",
       "      <td>0.087095</td>\n",
       "    </tr>\n",
       "    <tr>\n",
       "      <th>SPSRWD</th>\n",
       "      <td>-0.041490</td>\n",
       "      <td>0.207568</td>\n",
       "      <td>1.000000</td>\n",
       "      <td>0.632911</td>\n",
       "      <td>0.861885</td>\n",
       "    </tr>\n",
       "    <tr>\n",
       "      <th>BISBAS_BAS</th>\n",
       "      <td>0.045425</td>\n",
       "      <td>-0.008792</td>\n",
       "      <td>0.632911</td>\n",
       "      <td>1.000000</td>\n",
       "      <td>0.938109</td>\n",
       "    </tr>\n",
       "    <tr>\n",
       "      <th>PC1</th>\n",
       "      <td>0.011193</td>\n",
       "      <td>0.087095</td>\n",
       "      <td>0.861885</td>\n",
       "      <td>0.938109</td>\n",
       "      <td>1.000000</td>\n",
       "    </tr>\n",
       "  </tbody>\n",
       "</table>\n",
       "</div>"
      ],
      "text/plain": [
       "              RealID    gender    SPSRWD  BISBAS_BAS       PC1\n",
       "RealID      1.000000  0.018243 -0.041490    0.045425  0.011193\n",
       "gender      0.018243  1.000000  0.207568   -0.008792  0.087095\n",
       "SPSRWD     -0.041490  0.207568  1.000000    0.632911  0.861885\n",
       "BISBAS_BAS  0.045425 -0.008792  0.632911    1.000000  0.938109\n",
       "PC1         0.011193  0.087095  0.861885    0.938109  1.000000"
      ]
     },
     "metadata": {},
     "output_type": "display_data"
    },
    {
     "data": {
      "text/plain": [
       "<AxesSubplot:>"
      ]
     },
     "execution_count": 4,
     "metadata": {},
     "output_type": "execute_result"
    },
    {
     "data": {
      "image/png": "[encoded data removed]",
      "text/plain": [
       "<Figure size 864x576 with 2 Axes>"
      ]
     },
     "metadata": {
      "needs_background": "light"
     },
     "output_type": "display_data"
    }
   ],
   "source": [
    "cormat=PC1.corr()\n",
    "display(cormat)\n",
    "fig = plt.figure(figsize=(12, 8))\n",
    "sms.heatmap(cormat,cmap='vlag',vmin=-1)\n"
   ]
  },
  {
   "cell_type": "code",
   "execution_count": 5,
   "metadata": {},
   "outputs": [
    {
     "name": "stdout",
     "output_type": "stream",
     "text": [
      "Correlation between reward sensitivity is \n",
      " R^2: 0.40057571910166434 p: 2.8445206648412372e-11\n"
     ]
    },
    {
     "data": {
      "image/png": "[encoded data removed]",
      "text/plain": [
       "<Figure size 360x360 with 1 Axes>"
      ]
     },
     "metadata": {
      "needs_background": "light"
     },
     "output_type": "display_data"
    },
    {
     "name": "stdout",
     "output_type": "stream",
     "text": [
      "<class 'seaborn.axisgrid.FacetGrid'>\n"
     ]
    }
   ],
   "source": [
    "PC1=PC1[['RealID','gender','SPSRWD','BISBAS_BAS']]\n",
    "r,p=stats.pearsonr(PC1['SPSRWD'],PC1['BISBAS_BAS'])\n",
    "print(\"Correlation between reward sensitivity is \\n R^2: %s p: %s\"%(r**2,p))\n",
    "g=sms.lmplot(x='SPSRWD',y='BISBAS_BAS',data=PC1)\n",
    "plt.show()\n",
    "print(type(g))\n"
   ]
  },
  {
   "cell_type": "code",
   "execution_count": 6,
   "metadata": {},
   "outputs": [
    {
     "ename": "NameError",
     "evalue": "name 'df' is not defined",
     "output_type": "error",
     "traceback": [
      "\u001b[1;31m---------------------------------------------------------------------------\u001b[0m",
      "\u001b[1;31mNameError\u001b[0m                                 Traceback (most recent call last)",
      "\u001b[1;32m<ipython-input-6-9215e05038d1>\u001b[0m in \u001b[0;36m<module>\u001b[1;34m\u001b[0m\n\u001b[0;32m      3\u001b[0m \u001b[1;33m\u001b[0m\u001b[0m\n\u001b[0;32m      4\u001b[0m \u001b[0mfeatures\u001b[0m\u001b[1;33m=\u001b[0m\u001b[1;33m[\u001b[0m\u001b[1;34m'SPSRWD'\u001b[0m\u001b[1;33m,\u001b[0m\u001b[1;34m'BISBAS_BAS'\u001b[0m\u001b[1;33m]\u001b[0m\u001b[1;33m\u001b[0m\u001b[1;33m\u001b[0m\u001b[0m\n\u001b[1;32m----> 5\u001b[1;33m \u001b[0mX\u001b[0m \u001b[1;33m=\u001b[0m \u001b[0mdf\u001b[0m\u001b[1;33m.\u001b[0m\u001b[0mloc\u001b[0m\u001b[1;33m[\u001b[0m\u001b[1;33m:\u001b[0m\u001b[1;33m,\u001b[0m \u001b[0mfeatures\u001b[0m\u001b[1;33m]\u001b[0m\u001b[1;33m.\u001b[0m\u001b[0mvalues\u001b[0m\u001b[1;33m\u001b[0m\u001b[1;33m\u001b[0m\u001b[0m\n\u001b[0m\u001b[0;32m      6\u001b[0m \u001b[0mPC1\u001b[0m\u001b[1;33m=\u001b[0m\u001b[0mpca\u001b[0m\u001b[1;33m.\u001b[0m\u001b[0mfit_transform\u001b[0m\u001b[1;33m(\u001b[0m\u001b[0mX\u001b[0m\u001b[1;33m)\u001b[0m\u001b[1;33m\u001b[0m\u001b[1;33m\u001b[0m\u001b[0m\n\u001b[0;32m      7\u001b[0m \u001b[0mprint\u001b[0m\u001b[1;33m(\u001b[0m\u001b[0mPC1\u001b[0m\u001b[1;33m)\u001b[0m\u001b[1;33m\u001b[0m\u001b[1;33m\u001b[0m\u001b[0m\n",
      "\u001b[1;31mNameError\u001b[0m: name 'df' is not defined"
     ]
    }
   ],
   "source": [
    "from sklearn.decomposition import PCA\n",
    "pca=PCA(n_components=1)\n",
    "\n",
    "features=['SPSRWD','BISBAS_BAS']\n",
    "X = df.loc[:, features].values\n",
    "PC1=pca.fit_transform(X)\n",
    "print(PC1)\n",
    "\n",
    "df['PC1']=PC1\n",
    "display(df['PC1'])\n",
    "df.to_csv(fname,index='False')"
   ]
  },
  {
   "cell_type": "code",
   "execution_count": null,
   "metadata": {},
   "outputs": [],
   "source": [
    "plt.scatter(X[:, 0], X[:, 1], alpha=0.3, label=\"samples\")\n",
    "for i, (comp, var) in enumerate(zip(pca.components_, pca.explained_variance_)):\n",
    "    comp = comp * var  # scale component by its variance explanation power\n",
    "    plt.plot(\n",
    "        [0, comp[0]],\n",
    "        [0, comp[1]],\n",
    "        label=f\"Component {i}\",\n",
    "        linewidth=5,\n",
    "        color=f\"C{i + 2}\",\n",
    "    )\n",
    "plt.gca().set(\n",
    "    title=\"2-dimensional dataset with principal components\",\n",
    "    xlabel=\"first feature\",\n",
    "    ylabel=\"second feature\",\n",
    ")\n",
    "plt.legend()\n",
    "plt.show()"
   ]
  },
  {
   "cell_type": "code",
   "execution_count": null,
   "metadata": {},
   "outputs": [],
   "source": []
  }
 ],
 "metadata": {
  "kernelspec": {
   "display_name": "Python 3",
   "language": "python",
   "name": "python3"
  },
  "language_info": {
   "codemirror_mode": {
    "name": "ipython",
    "version": 3
   },
   "file_extension": ".py",
   "mimetype": "text/x-python",
   "name": "python",
   "nbconvert_exporter": "python",
   "pygments_lexer": "ipython3",
   "version": "3.8.8"
  }
 },
 "nbformat": 4,
 "nbformat_minor": 4
}
