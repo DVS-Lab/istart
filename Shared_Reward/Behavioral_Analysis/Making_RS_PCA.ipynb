{
 "cells": [
  {
   "cell_type": "code",
   "execution_count": 1,
   "metadata": {},
   "outputs": [],
   "source": [
    "import pandas as pd\n",
    "import scipy.stats as stats\n",
    "import numpy as np \n",
    "import matplotlib.pyplot as plt\n",
    "import seaborn as sms\n",
    "import os\n",
    "import inspect"
   ]
  },
  {
   "cell_type": "code",
   "execution_count": 2,
   "metadata": {},
   "outputs": [
    {
     "data": {
      "text/plain": [
       "['.ipynb_checkpoints',\n",
       " '7U7D.csv',\n",
       " 'AADIS.csv',\n",
       " 'Aggregation-checkpoint.ipynb',\n",
       " 'AllSharedRewardData.csv',\n",
       " 'AUDIT, DUDIT, AADIS, 7U7D, rescoring and aggregation.ipynb',\n",
       " 'FullSharedRewardData.csv',\n",
       " 'Helping Ori & Amanda.ipynb',\n",
       " 'ISTART - RECOVERED DATA - reward sensitivity screeners.csv',\n",
       " 'ISTART-Reward-Quintiles-Combined.csv',\n",
       " 'ISTART2021-Demographics_DATA_2021-10-29_1323.csv',\n",
       " 'ISTART2021-QuestionnaireScoresU_DATA_2021-10-29_1336.csv',\n",
       " 'ISTART2021-RewardSensitivityQui_DATA_2021-10-29_1337.csv',\n",
       " 'ISTART2021-RSQ.csv',\n",
       " 'joinedfile.csv',\n",
       " 'Making_RS_PCA.ipynb',\n",
       " 'Qualtrics-Data-ISTART-010522.csv',\n",
       " 'ReadMe_Behavioral_Analysis.txt',\n",
       " 'Reward_Sensitivity.csv',\n",
       " 'Shared Reward Behavioral Analysis.ipynb',\n",
       " 'Shared Reward Data Aggregation.ipynb',\n",
       " 'SR_PartnerRatings.csv',\n",
       " 'SR_PartnerRatings_PS.csv',\n",
       " 'SR_REDCap_data.csv',\n",
       " 'Substance_and_Mood_data.csv',\n",
       " 'Substance_and_Mood_data_SCORED.csv',\n",
       " 'ugdg_tsr_means.xlsx']"
      ]
     },
     "execution_count": 2,
     "metadata": {},
     "output_type": "execute_result"
    }
   ],
   "source": [
    "os.listdir('.')"
   ]
  },
  {
   "cell_type": "code",
   "execution_count": 3,
   "metadata": {},
   "outputs": [
    {
     "name": "stdout",
     "output_type": "stream",
     "text": [
      "<class 'pandas.core.frame.DataFrame'>\n",
      "<class 'function'>\n"
     ]
    }
   ],
   "source": [
    "fname='Reward_Sensitivity.csv'\n",
    "df=pd.read_csv(fname)\n",
    "print(type(df))\n",
    "print(type(pd.read_csv))\n",
    "\n"
   ]
  },
  {
   "cell_type": "code",
   "execution_count": 4,
   "metadata": {},
   "outputs": [
    {
     "data": {
      "text/html": [
       "<div>\n",
       "<style scoped>\n",
       "    .dataframe tbody tr th:only-of-type {\n",
       "        vertical-align: middle;\n",
       "    }\n",
       "\n",
       "    .dataframe tbody tr th {\n",
       "        vertical-align: top;\n",
       "    }\n",
       "\n",
       "    .dataframe thead th {\n",
       "        text-align: right;\n",
       "    }\n",
       "</style>\n",
       "<table border=\"1\" class=\"dataframe\">\n",
       "  <thead>\n",
       "    <tr style=\"text-align: right;\">\n",
       "      <th></th>\n",
       "      <th>RealID</th>\n",
       "      <th>gender</th>\n",
       "      <th>SPSRWD</th>\n",
       "      <th>BISBAS_BAS</th>\n",
       "      <th>PC1</th>\n",
       "    </tr>\n",
       "  </thead>\n",
       "  <tbody>\n",
       "    <tr>\n",
       "      <th>RealID</th>\n",
       "      <td>1.000000</td>\n",
       "      <td>0.042400</td>\n",
       "      <td>-0.018472</td>\n",
       "      <td>0.061359</td>\n",
       "      <td>0.034246</td>\n",
       "    </tr>\n",
       "    <tr>\n",
       "      <th>gender</th>\n",
       "      <td>0.042400</td>\n",
       "      <td>1.000000</td>\n",
       "      <td>0.199487</td>\n",
       "      <td>-0.026414</td>\n",
       "      <td>0.078584</td>\n",
       "    </tr>\n",
       "    <tr>\n",
       "      <th>SPSRWD</th>\n",
       "      <td>-0.018472</td>\n",
       "      <td>0.199487</td>\n",
       "      <td>1.000000</td>\n",
       "      <td>0.622783</td>\n",
       "      <td>0.858556</td>\n",
       "    </tr>\n",
       "    <tr>\n",
       "      <th>BISBAS_BAS</th>\n",
       "      <td>0.061359</td>\n",
       "      <td>-0.026414</td>\n",
       "      <td>0.622783</td>\n",
       "      <td>1.000000</td>\n",
       "      <td>0.936436</td>\n",
       "    </tr>\n",
       "    <tr>\n",
       "      <th>PC1</th>\n",
       "      <td>0.034246</td>\n",
       "      <td>0.078584</td>\n",
       "      <td>0.858556</td>\n",
       "      <td>0.936436</td>\n",
       "      <td>1.000000</td>\n",
       "    </tr>\n",
       "  </tbody>\n",
       "</table>\n",
       "</div>"
      ],
      "text/plain": [
       "              RealID    gender    SPSRWD  BISBAS_BAS       PC1\n",
       "RealID      1.000000  0.042400 -0.018472    0.061359  0.034246\n",
       "gender      0.042400  1.000000  0.199487   -0.026414  0.078584\n",
       "SPSRWD     -0.018472  0.199487  1.000000    0.622783  0.858556\n",
       "BISBAS_BAS  0.061359 -0.026414  0.622783    1.000000  0.936436\n",
       "PC1         0.034246  0.078584  0.858556    0.936436  1.000000"
      ]
     },
     "metadata": {},
     "output_type": "display_data"
    },
    {
     "data": {
      "text/plain": [
       "<AxesSubplot:>"
      ]
     },
     "execution_count": 4,
     "metadata": {},
     "output_type": "execute_result"
    },
    {
     "data": {
      "image/png": "[encoded data removed]",
      "text/plain": [
       "<Figure size 864x576 with 2 Axes>"
      ]
     },
     "metadata": {
      "needs_background": "light"
     },
     "output_type": "display_data"
    }
   ],
   "source": [
    "cormat=df.corr()\n",
    "display(cormat)\n",
    "fig = plt.figure(figsize=(12, 8))\n",
    "sms.heatmap(cormat,cmap='vlag',vmin=-1)\n"
   ]
  },
  {
   "cell_type": "code",
   "execution_count": 5,
   "metadata": {},
   "outputs": [
    {
     "name": "stdout",
     "output_type": "stream",
     "text": [
      "Correlation between reward sensitivity is \n",
      " R^2: 0.3878584832444186 p: 5.6013703677312385e-11\n"
     ]
    },
    {
     "data": {
      "image/png": "[encoded data removed]",
      "text/plain": [
       "<Figure size 360x360 with 1 Axes>"
      ]
     },
     "metadata": {
      "needs_background": "light"
     },
     "output_type": "display_data"
    },
    {
     "name": "stdout",
     "output_type": "stream",
     "text": [
      "<class 'seaborn.axisgrid.FacetGrid'>\n"
     ]
    }
   ],
   "source": [
    "df=df[['RealID','gender','SPSRWD','BISBAS_BAS']]\n",
    "r,p=stats.pearsonr(df['SPSRWD'],df['BISBAS_BAS'])\n",
    "print(\"Correlation between reward sensitivity is \\n R^2: %s p: %s\"%(r**2,p))\n",
    "g=sms.lmplot(x='SPSRWD',y='BISBAS_BAS',data=df)\n",
    "plt.show()\n",
    "print(type(g))\n"
   ]
  },
  {
   "cell_type": "code",
   "execution_count": 8,
   "metadata": {},
   "outputs": [
    {
     "name": "stdout",
     "output_type": "stream",
     "text": [
      "[[  0.66446334]\n",
      " [ -1.4338822 ]\n",
      " [  0.82870138]\n",
      " [  1.08367949]\n",
      " [  1.08367949]\n",
      " [  0.17174922]\n",
      " [ -1.72560929]\n",
      " [ -1.72560929]\n",
      " [ -0.48520294]\n",
      " [ -2.71103753]\n",
      " [  0.62771436]\n",
      " [ -2.34581247]\n",
      " [  1.08367949]\n",
      " [ -9.20479638]\n",
      " [  3.89296827]\n",
      " [ -1.56137125]\n",
      " [ -5.15510125]\n",
      " [  2.48832388]\n",
      " [ -3.75045686]\n",
      " [  9.51154584]\n",
      " [  1.70388267]\n",
      " [  6.70225706]\n",
      " [ -2.34581247]\n",
      " [ 11.37378094]\n",
      " [ -0.3209649 ]\n",
      " [ 10.78870118]\n",
      " [ -4.53489807]\n",
      " [  1.86812071]\n",
      " [ -3.9146949 ]\n",
      " [  8.76385361]\n",
      " [ -4.37066003]\n",
      " [  2.65256192]\n",
      " [  1.08367949]\n",
      " [  1.24791753]\n",
      " [ -2.18157443]\n",
      " [-13.68508668]\n",
      " [  3.10852706]\n",
      " [ -1.56137125]\n",
      " [  3.56449219]\n",
      " [ -8.09187909]\n",
      " [ -5.77530442]\n",
      " [  1.24791753]\n",
      " [ -3.75045686]\n",
      " [ -7.67266294]\n",
      " [  3.89296827]\n",
      " [ -0.94116808]\n",
      " [ -3.58621882]\n",
      " [  3.89296827]\n",
      " [ -6.72398368]\n",
      " [ -3.42198078]\n",
      " [ 11.08042827]\n",
      " [ -1.10540612]\n",
      " [ -0.94116808]\n",
      " [  1.41215557]\n",
      " [  3.10852706]\n",
      " [  7.48669827]\n",
      " [ -1.10540612]\n",
      " [  8.56286658]\n",
      " [ -3.29449172]\n",
      " [ -3.13025368]\n",
      " [ -2.34581247]\n",
      " [ -1.10540612]\n",
      " [  1.41215557]\n",
      " [  9.71253287]\n",
      " [  4.67740949]\n",
      " [ -9.9892376 ]\n",
      " [ 14.21819313]\n",
      " [ -5.61106638]\n",
      " [ -3.58621882]\n",
      " [ -7.5084249 ]\n",
      " [  4.22144435]\n",
      " [ -6.55974564]\n",
      " [ -4.77514037]\n",
      " [ -2.8017776 ]\n",
      " [  0.7919524 ]\n",
      " [ 13.26951388]\n",
      " [  5.7535778 ]\n",
      " [ -1.72560929]\n",
      " [  4.22144435]\n",
      " [ -3.75045686]\n",
      " [  0.62771436]\n",
      " [ -5.77530442]\n",
      " [  1.08367949]\n",
      " [  6.574768  ]\n",
      " [ -7.34418686]\n",
      " [ -2.51005051]\n",
      " [  2.65256192]\n",
      " [ -5.61106638]\n",
      " [ -1.10540612]\n",
      " [  0.46347632]]\n"
     ]
    },
    {
     "data": {
      "text/plain": [
       "0     0.664463\n",
       "1    -1.433882\n",
       "2     0.828701\n",
       "3     1.083679\n",
       "4     1.083679\n",
       "        ...   \n",
       "85   -2.510051\n",
       "86    2.652562\n",
       "87   -5.611066\n",
       "88   -1.105406\n",
       "89    0.463476\n",
       "Name: PC1, Length: 90, dtype: float64"
      ]
     },
     "metadata": {},
     "output_type": "display_data"
    }
   ],
   "source": [
    "from sklearn.decomposition import PCA\n",
    "pca=PCA(n_components=1)\n",
    "\n",
    "features=['SPSRWD','BISBAS_BAS']\n",
    "X = df.loc[:, features].values\n",
    "PC1=pca.fit_transform(X)\n",
    "print(PC1)\n",
    "\n",
    "df['PC1']=PC1\n",
    "display(df['PC1'])\n",
    "df.to_csv(fname,index='False')"
   ]
  },
  {
   "cell_type": "code",
   "execution_count": 7,
   "metadata": {},
   "outputs": [
    {
     "data": {
      "image/png": "[encoded data removed]",
      "text/plain": [
       "<Figure size 432x288 with 1 Axes>"
      ]
     },
     "metadata": {
      "needs_background": "light"
     },
     "output_type": "display_data"
    }
   ],
   "source": [
    "plt.scatter(X[:, 0], X[:, 1], alpha=0.3, label=\"samples\")\n",
    "for i, (comp, var) in enumerate(zip(pca.components_, pca.explained_variance_)):\n",
    "    comp = comp * var  # scale component by its variance explanation power\n",
    "    plt.plot(\n",
    "        [0, comp[0]],\n",
    "        [0, comp[1]],\n",
    "        label=f\"Component {i}\",\n",
    "        linewidth=5,\n",
    "        color=f\"C{i + 2}\",\n",
    "    )\n",
    "plt.gca().set(\n",
    "    title=\"2-dimensional dataset with principal components\",\n",
    "    xlabel=\"first feature\",\n",
    "    ylabel=\"second feature\",\n",
    ")\n",
    "plt.legend()\n",
    "plt.show()"
   ]
  },
  {
   "cell_type": "code",
   "execution_count": null,
   "metadata": {},
   "outputs": [],
   "source": []
  }
 ],
 "metadata": {
  "kernelspec": {
   "display_name": "Python 3",
   "language": "python",
   "name": "python3"
  },
  "language_info": {
   "codemirror_mode": {
    "name": "ipython",
    "version": 3
   },
   "file_extension": ".py",
   "mimetype": "text/x-python",
   "name": "python",
   "nbconvert_exporter": "python",
   "pygments_lexer": "ipython3",
   "version": "3.8.8"
  }
 },
 "nbformat": 4,
 "nbformat_minor": 4
}
